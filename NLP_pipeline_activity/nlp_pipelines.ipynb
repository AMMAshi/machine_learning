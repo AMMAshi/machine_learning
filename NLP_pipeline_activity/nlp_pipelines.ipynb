{
 "cells": [
  {
   "cell_type": "markdown",
   "metadata": {},
   "source": [
    "### Creating a Natural Language Processing Pipeline\n",
    "\n",
    "Today we will build on what Hutaf did last week and combine NLP with what we have been doing with Random Forest Classifiers yesterday. We'll be using a text classificaton model on a dataset which contains real info on what corporations actually talk about on social media. This is the first time in this course we will build a pipeline to process data.\n",
    "\n",
    "##### The statements were labelled as into following categories\n",
    "\n",
    "- `information` (objective statements about the company or it's activities), \n",
    "- `dialog` (replies to users, etc.), or \n",
    "- `action` (messages that ask for votes or ask users to click on links, etc.). \n",
    "\n",
    "Our aim is to build a model to automatically categorize the text into their respective categories. \n",
    "\n",
    "##### Get the data\n",
    "\n",
    "You can download the dataset from [here](https://data.world/crowdflower/corporate-messaging)"
   ]
  },
  {
   "cell_type": "markdown",
   "metadata": {},
   "source": [
    "### Task 1: Load the data and examine it."
   ]
  },
  {
   "cell_type": "code",
   "execution_count": 1,
   "metadata": {},
   "outputs": [],
   "source": [
    "# load required libraries\n",
    "import numpy as np\n",
    "import pandas as pd\n",
    "import seaborn as sns\n",
    "import sys\n",
    "import matplotlib.pyplot as plt"
   ]
  },
  {
   "cell_type": "code",
   "execution_count": 2,
   "metadata": {},
   "outputs": [],
   "source": [
    "# load the dataset\n",
    "data = pd.read_csv('corporate_messaging_dfe.csv')"
   ]
  },
  {
   "cell_type": "code",
   "execution_count": 3,
   "metadata": {},
   "outputs": [
    {
     "data": {
      "text/html": [
       "<div>\n",
       "<style scoped>\n",
       "    .dataframe tbody tr th:only-of-type {\n",
       "        vertical-align: middle;\n",
       "    }\n",
       "\n",
       "    .dataframe tbody tr th {\n",
       "        vertical-align: top;\n",
       "    }\n",
       "\n",
       "    .dataframe thead th {\n",
       "        text-align: right;\n",
       "    }\n",
       "</style>\n",
       "<table border=\"1\" class=\"dataframe\">\n",
       "  <thead>\n",
       "    <tr style=\"text-align: right;\">\n",
       "      <th></th>\n",
       "      <th>unit_id</th>\n",
       "      <th>golden</th>\n",
       "      <th>unit_state</th>\n",
       "      <th>trusted_judgments</th>\n",
       "      <th>last_judgment_at</th>\n",
       "      <th>category</th>\n",
       "      <th>category_confidence</th>\n",
       "      <th>category_gold</th>\n",
       "      <th>id</th>\n",
       "      <th>screenname</th>\n",
       "      <th>text</th>\n",
       "    </tr>\n",
       "  </thead>\n",
       "  <tbody>\n",
       "    <tr>\n",
       "      <th>0</th>\n",
       "      <td>662822308</td>\n",
       "      <td>False</td>\n",
       "      <td>finalized</td>\n",
       "      <td>3</td>\n",
       "      <td>2015-02-18T04:31:00</td>\n",
       "      <td>Information</td>\n",
       "      <td>1.0</td>\n",
       "      <td>NaN</td>\n",
       "      <td>436528000000000000</td>\n",
       "      <td>Barclays</td>\n",
       "      <td>Barclays CEO stresses the importance of regula...</td>\n",
       "    </tr>\n",
       "    <tr>\n",
       "      <th>1</th>\n",
       "      <td>662822309</td>\n",
       "      <td>False</td>\n",
       "      <td>finalized</td>\n",
       "      <td>3</td>\n",
       "      <td>2015-02-18T13:55:00</td>\n",
       "      <td>Information</td>\n",
       "      <td>1.0</td>\n",
       "      <td>NaN</td>\n",
       "      <td>386013000000000000</td>\n",
       "      <td>Barclays</td>\n",
       "      <td>Barclays announces result of Rights Issue http...</td>\n",
       "    </tr>\n",
       "    <tr>\n",
       "      <th>2</th>\n",
       "      <td>662822310</td>\n",
       "      <td>False</td>\n",
       "      <td>finalized</td>\n",
       "      <td>3</td>\n",
       "      <td>2015-02-18T08:43:00</td>\n",
       "      <td>Information</td>\n",
       "      <td>1.0</td>\n",
       "      <td>NaN</td>\n",
       "      <td>379580000000000000</td>\n",
       "      <td>Barclays</td>\n",
       "      <td>Barclays publishes its prospectus for its �5.8...</td>\n",
       "    </tr>\n",
       "    <tr>\n",
       "      <th>3</th>\n",
       "      <td>662822311</td>\n",
       "      <td>False</td>\n",
       "      <td>finalized</td>\n",
       "      <td>3</td>\n",
       "      <td>2015-02-18T09:13:00</td>\n",
       "      <td>Information</td>\n",
       "      <td>1.0</td>\n",
       "      <td>NaN</td>\n",
       "      <td>367530000000000000</td>\n",
       "      <td>Barclays</td>\n",
       "      <td>Barclays Group Finance Director Chris Lucas is...</td>\n",
       "    </tr>\n",
       "    <tr>\n",
       "      <th>4</th>\n",
       "      <td>662822312</td>\n",
       "      <td>False</td>\n",
       "      <td>finalized</td>\n",
       "      <td>3</td>\n",
       "      <td>2015-02-18T06:48:00</td>\n",
       "      <td>Information</td>\n",
       "      <td>1.0</td>\n",
       "      <td>NaN</td>\n",
       "      <td>360385000000000000</td>\n",
       "      <td>Barclays</td>\n",
       "      <td>Barclays announces that Irene McDermott Brown ...</td>\n",
       "    </tr>\n",
       "  </tbody>\n",
       "</table>\n",
       "</div>"
      ],
      "text/plain": [
       "     unit_id  golden unit_state  trusted_judgments     last_judgment_at  \\\n",
       "0  662822308   False  finalized                  3  2015-02-18T04:31:00   \n",
       "1  662822309   False  finalized                  3  2015-02-18T13:55:00   \n",
       "2  662822310   False  finalized                  3  2015-02-18T08:43:00   \n",
       "3  662822311   False  finalized                  3  2015-02-18T09:13:00   \n",
       "4  662822312   False  finalized                  3  2015-02-18T06:48:00   \n",
       "\n",
       "      category  category_confidence category_gold                  id  \\\n",
       "0  Information                  1.0           NaN  436528000000000000   \n",
       "1  Information                  1.0           NaN  386013000000000000   \n",
       "2  Information                  1.0           NaN  379580000000000000   \n",
       "3  Information                  1.0           NaN  367530000000000000   \n",
       "4  Information                  1.0           NaN  360385000000000000   \n",
       "\n",
       "  screenname                                               text  \n",
       "0   Barclays  Barclays CEO stresses the importance of regula...  \n",
       "1   Barclays  Barclays announces result of Rights Issue http...  \n",
       "2   Barclays  Barclays publishes its prospectus for its �5.8...  \n",
       "3   Barclays  Barclays Group Finance Director Chris Lucas is...  \n",
       "4   Barclays  Barclays announces that Irene McDermott Brown ...  "
      ]
     },
     "execution_count": 3,
     "metadata": {},
     "output_type": "execute_result"
    }
   ],
   "source": [
    "# see head of the dataset\n",
    "data.head()"
   ]
  },
  {
   "cell_type": "code",
   "execution_count": 4,
   "metadata": {},
   "outputs": [
    {
     "data": {
      "text/plain": [
       "(3118, 11)"
      ]
     },
     "execution_count": 4,
     "metadata": {},
     "output_type": "execute_result"
    }
   ],
   "source": [
    "# observe shape of the dataset\n",
    "data.shape"
   ]
  },
  {
   "cell_type": "code",
   "execution_count": 5,
   "metadata": {},
   "outputs": [
    {
     "data": {
      "text/plain": [
       "Information    2129\n",
       "Action          724\n",
       "Dialogue        226\n",
       "Exclude          39\n",
       "Name: category, dtype: int64"
      ]
     },
     "execution_count": 5,
     "metadata": {},
     "output_type": "execute_result"
    }
   ],
   "source": [
    "# check distribution of target column i.e. category\n",
    "data['category'].value_counts()"
   ]
  },
  {
   "cell_type": "code",
   "execution_count": 6,
   "metadata": {},
   "outputs": [
    {
     "data": {
      "text/plain": [
       "1.0000    2430\n",
       "0.6614      35\n",
       "0.6643      33\n",
       "0.6747      32\n",
       "0.6775      29\n",
       "          ... \n",
       "0.8547       1\n",
       "0.6641       1\n",
       "0.8578       1\n",
       "0.9089       1\n",
       "0.8245       1\n",
       "Name: category_confidence, Length: 194, dtype: int64"
      ]
     },
     "execution_count": 6,
     "metadata": {},
     "output_type": "execute_result"
    }
   ],
   "source": [
    "# check distribution of the column - category_confidence\n",
    "data['category_confidence'].value_counts()"
   ]
  },
  {
   "cell_type": "code",
   "execution_count": 7,
   "metadata": {},
   "outputs": [],
   "source": [
    "# remove those observations where category_confidence < 1 and category = Exclude\n",
    "data = data[(data['category_confidence'] == 1) & data['category'] != 'Exclude']"
   ]
  },
  {
   "cell_type": "code",
   "execution_count": 9,
   "metadata": {},
   "outputs": [],
   "source": [
    "# extract features i.e the column - text and target i.e the column - category\n",
    "feature = data['text']\n",
    "target = data['category']"
   ]
  },
  {
   "cell_type": "markdown",
   "metadata": {},
   "source": [
    "### Task 2: Text preprocessing\n",
    "\n",
    "We will do the below pre-processing tasks on the text\n",
    "- tokenizing the sentences\n",
    "- replace the urls with a placeholder\n",
    "- removing non ascii characters\n",
    "- text normalizing using lemmatization"
   ]
  },
  {
   "cell_type": "code",
   "execution_count": 11,
   "metadata": {},
   "outputs": [
    {
     "data": {
      "text/plain": [
       "'Barclays CEO stresses the importance of regulatory and cultural reform in financial services at Brussels conference  http://t.co/Ge9Lp7hpyG'"
      ]
     },
     "execution_count": 11,
     "metadata": {},
     "output_type": "execute_result"
    }
   ],
   "source": [
    "# let's observe a text in the dataset, extract the first text\n",
    "feature[0]"
   ]
  },
  {
   "cell_type": "code",
   "execution_count": 12,
   "metadata": {},
   "outputs": [
    {
     "data": {
      "text/plain": [
       "'Barclays publishes its prospectus for its �5.8bn Rights Issue: http://t.co/YZk24iE8G6'"
      ]
     },
     "execution_count": 12,
     "metadata": {},
     "output_type": "execute_result"
    }
   ],
   "source": [
    "# now extract the third text from this dataset\n",
    "feature[2]"
   ]
  },
  {
   "cell_type": "code",
   "execution_count": 52,
   "metadata": {},
   "outputs": [
    {
     "name": "stderr",
     "output_type": "stream",
     "text": [
      "[nltk_data] Downloading package wordnet to\n",
      "[nltk_data]     /Users/abdullah/nltk_data...\n",
      "[nltk_data]   Package wordnet is already up-to-date!\n",
      "[nltk_data] Downloading package stopwords to\n",
      "[nltk_data]     /Users/abdullah/nltk_data...\n",
      "[nltk_data]   Package stopwords is already up-to-date!\n",
      "[nltk_data] Downloading package punkt to /Users/abdullah/nltk_data...\n",
      "[nltk_data]   Package punkt is already up-to-date!\n"
     ]
    }
   ],
   "source": [
    "# import re library for regular expressions\n",
    "# import nltk library\n",
    "# import stopwords from nltk library\n",
    "# download the stopwords and wordnet corpus\n",
    "# extract the english stopwords and save it to a variable\n",
    "# import word_tokenize from nltk library\n",
    "# import WordNetLemmatizer from nltk library\n",
    "\n",
    "import re\n",
    "import nltk\n",
    "from nltk.corpus import stopwords\n",
    "from nltk.tokenize import word_tokenize\n",
    "from nltk.stem import WordNetLemmatizer\n",
    "nltk.download('wordnet')\n",
    "nltk.download('stopwords')\n",
    "nltk.download('punkt')\n",
    "stoplist = set(stopwords.words('english'))\n",
    "\n",
    "\n",
    "# write a regular expression to identify urls in text\n",
    "url_regex = r'http[s]?://(?:[a-zA-Z]|[0-9]|[$-_@.&+]|[!*\\(\\),]|(?:%[0-9a-fA-F][0-9a-fA-F]))+'\n",
    "\n",
    "# write a regular expression to identify non-ascii characters in text\n",
    "non_ascii_regex = r'[^\\x00-\\x7F]+'\n",
    "\n",
    "# write a function to tokenize text after performing preprocessing \n",
    "    # use library re to replace urls by token - urlplaceholder\n",
    "    # use library re to replace non ascii characters by a space\n",
    "    # use word_tokenize to tokenize the sentences\n",
    "    # instantiate an object of class WordNetLemmatizer\n",
    "    # use a list comprehension to lemmatize the tokens and remove the the stopwords\n",
    "    # return the tokens\n",
    "    \n",
    "def tokenize(text):\n",
    "    text = re.sub(non_ascii_regex, ' ', text)\n",
    "    text = re.sub(url_regex, 'urlplaceholder', text)\n",
    "    tokens = word_tokenize(text)\n",
    "    lemmatizer = WordNetLemmatizer()\n",
    "    \n",
    "    clean_tokens = []\n",
    "    for word in tokens:\n",
    "        if word not in stoplist:\n",
    "            clean_tokens.append(lemmatizer.lemmatize(word))\n",
    "    return clean_tokens\n",
    "    \n"
   ]
  },
  {
   "cell_type": "markdown",
   "metadata": {},
   "source": [
    "### Task 3: EDA"
   ]
  },
  {
   "cell_type": "markdown",
   "metadata": {},
   "source": [
    "In this task, we will do exploratory data analysis to check if there are any new features that we can generate based on the existing text that we have in the dataset. I have come up with these two assumptions. What others can you think of?"
   ]
  },
  {
   "cell_type": "markdown",
   "metadata": {},
   "source": [
    "**Hypothesis 1:** The length of the text in each category might be different from each other\n",
    "<br>**Hypothesis 2:** The total number of URLs that are present in text might be different in each category"
   ]
  },
  {
   "cell_type": "code",
   "execution_count": 53,
   "metadata": {},
   "outputs": [
    {
     "data": {
      "text/plain": [
       "<AxesSubplot:xlabel='category', ylabel='length'>"
      ]
     },
     "execution_count": 53,
     "metadata": {},
     "output_type": "execute_result"
    },
    {
     "data": {
      "image/png": "[encoded data removed]",
      "text/plain": [
       "<Figure size 1152x576 with 1 Axes>"
      ]
     },
     "metadata": {
      "needs_background": "light"
     },
     "output_type": "display_data"
    }
   ],
   "source": [
    "# create a new column in the original dataset - 'length' to capture length of each text\n",
    "data['length'] = data['text'].apply(lambda x: len(word_tokenize(x)))\n",
    "\n",
    "# use seaborn boxplot to visualize the pattern in length for each category\n",
    "fig = plt.figure(figsize=(16,8))\n",
    "sns.boxplot(x='category', y='length', data=data)"
   ]
  },
  {
   "cell_type": "code",
   "execution_count": 54,
   "metadata": {},
   "outputs": [
    {
     "data": {
      "text/html": [
       "<div>\n",
       "<style scoped>\n",
       "    .dataframe tbody tr th:only-of-type {\n",
       "        vertical-align: middle;\n",
       "    }\n",
       "\n",
       "    .dataframe tbody tr th {\n",
       "        vertical-align: top;\n",
       "    }\n",
       "\n",
       "    .dataframe thead th {\n",
       "        text-align: right;\n",
       "    }\n",
       "</style>\n",
       "<table border=\"1\" class=\"dataframe\">\n",
       "  <thead>\n",
       "    <tr style=\"text-align: right;\">\n",
       "      <th>url_count</th>\n",
       "      <th>0</th>\n",
       "      <th>1</th>\n",
       "      <th>2</th>\n",
       "    </tr>\n",
       "    <tr>\n",
       "      <th>category</th>\n",
       "      <th></th>\n",
       "      <th></th>\n",
       "      <th></th>\n",
       "    </tr>\n",
       "  </thead>\n",
       "  <tbody>\n",
       "    <tr>\n",
       "      <th>Action</th>\n",
       "      <td>0.017960</td>\n",
       "      <td>0.205260</td>\n",
       "      <td>0.008980</td>\n",
       "    </tr>\n",
       "    <tr>\n",
       "      <th>Dialogue</th>\n",
       "      <td>0.038486</td>\n",
       "      <td>0.033996</td>\n",
       "      <td>0.000000</td>\n",
       "    </tr>\n",
       "    <tr>\n",
       "      <th>Exclude</th>\n",
       "      <td>0.005452</td>\n",
       "      <td>0.007056</td>\n",
       "      <td>0.000000</td>\n",
       "    </tr>\n",
       "    <tr>\n",
       "      <th>Information</th>\n",
       "      <td>0.181527</td>\n",
       "      <td>0.481398</td>\n",
       "      <td>0.019885</td>\n",
       "    </tr>\n",
       "  </tbody>\n",
       "</table>\n",
       "</div>"
      ],
      "text/plain": [
       "url_count           0         1         2\n",
       "category                                 \n",
       "Action       0.017960  0.205260  0.008980\n",
       "Dialogue     0.038486  0.033996  0.000000\n",
       "Exclude      0.005452  0.007056  0.000000\n",
       "Information  0.181527  0.481398  0.019885"
      ]
     },
     "execution_count": 54,
     "metadata": {},
     "output_type": "execute_result"
    }
   ],
   "source": [
    "# create a new column in the original dataset - 'url_count' to capture total count of urls present in each text\n",
    "data['url_count'] = data['text'].apply(lambda x: len(re.findall(url_regex, x)))\n",
    "\n",
    "# use pandas crosstab to see the distibution of different url counts in each category\n",
    "pd.crosstab(data['category'], data['url_count'], normalize=True)"
   ]
  },
  {
   "cell_type": "markdown",
   "metadata": {},
   "source": [
    "### Task 4: Creating custom transformers"
   ]
  },
  {
   "cell_type": "markdown",
   "metadata": {},
   "source": [
    "An estimator is any object that learns from data, whether it's a classification, regression, or clustering algorithm, or a transformer that extracts or filters useful features from raw data. Since estimators learn from data, they each must have a `fit` method that takes a dataset."
   ]
  },
  {
   "cell_type": "markdown",
   "metadata": {},
   "source": [
    "There are two kinds of estimators - `Transformer Estimators` i.e. transformers in short and `Predictor Estimators` i.e. predictor in short. In transformers we also need to have another method `transform` and predictors need to have another method `predict`."
   ]
  },
  {
   "cell_type": "markdown",
   "metadata": {},
   "source": [
    "Some examples of `transformers` are - CountVectorizer, TfidfVectorizer, MinMaxScaler, StandardScaler etc"
   ]
  },
  {
   "cell_type": "markdown",
   "metadata": {},
   "source": [
    "Some examples of `predictors` are - LinearRegression, LogisticRegression, RandomForestClassifier etc"
   ]
  },
  {
   "cell_type": "code",
   "execution_count": 55,
   "metadata": {},
   "outputs": [],
   "source": [
    "# create a custom transformer LengthExtractor to extract length of each sentences\n",
    "\n",
    "from sklearn.base import BaseEstimator, TransformerMixin\n",
    "\n",
    "class LengthExtractor(BaseEstimator, TransformerMixin):\n",
    "    \n",
    "    def comp_length(self, text):\n",
    "        sentence_list = word_tokenize(text)\n",
    "        return len(sentence_list)\n",
    "        \n",
    "    def fit(self, x, y=None):\n",
    "        return self\n",
    "    \n",
    "    def transform(self, X):\n",
    "        X_length = pd.Series(X).apply(self.comp_length)\n",
    "        return pd.DataFrame(X_length)"
   ]
  },
  {
   "cell_type": "code",
   "execution_count": 56,
   "metadata": {},
   "outputs": [],
   "source": [
    "# create a custom transformer UrlCounter to count number of urls in each sentences\n",
    "\n",
    "class UrlCounter(BaseEstimator, TransformerMixin):\n",
    "    \n",
    "    def count_url(self, text):\n",
    "        urls = re.findall(url_regex, text)\n",
    "        return len(urls)\n",
    "    \n",
    "    def fit(self, x, y=None):\n",
    "        return self\n",
    "    \n",
    "    def transform(self, X):\n",
    "        url_count = pd.Series(X).apply(self.count_url)\n",
    "        return pd.DataFrame(url_count)"
   ]
  },
  {
   "cell_type": "markdown",
   "metadata": {},
   "source": [
    "### Task 5: Model Building using FeatureUnion"
   ]
  },
  {
   "cell_type": "markdown",
   "metadata": {},
   "source": [
    "Feature union applies a list of transformer objects in parallel to the input data, then concatenates the results. This is useful to combine several feature extraction mechanisms into a single transformer."
   ]
  },
  {
   "cell_type": "markdown",
   "metadata": {},
   "source": [
    "![alt text](pipeline.png \"nlp pipeline\")"
   ]
  },
  {
   "cell_type": "code",
   "execution_count": 57,
   "metadata": {},
   "outputs": [],
   "source": [
    "# import RandomForestClassifier from sklearn\n",
    "# import Pipeline and FeatureUnion from sklearn\n",
    "# import CountVectorizer, TfidfTransformer from sklearn\n",
    "\n",
    "from sklearn.ensemble import RandomForestClassifier\n",
    "from sklearn.pipeline import Pipeline, FeatureUnion\n",
    "from sklearn.feature_extraction.text import CountVectorizer, TfidfTransformer"
   ]
  },
  {
   "cell_type": "code",
   "execution_count": 70,
   "metadata": {},
   "outputs": [],
   "source": [
    "# create an instance of Pipeline class\n",
    "        # create a FeatureUnion pipeline\n",
    "            # add a pipeline element to extract features using CountVectorizer and TfidfTransformer\n",
    "            # add the pipeline element - LengthExtractor to extract lenght of each sentence as feature\n",
    "            # add another pipeline element - UrlCounter to extract url counts in each sentence as feature\n",
    "        # use the predictor estimator RandomForestClassifier to train the model\n",
    "\n",
    "pipeline = Pipeline([\n",
    "    ('features', FeatureUnion([\n",
    "        ('text_pipeline', Pipeline([\n",
    "            ('vect', CountVectorizer(tokenizer=tokenize)),\n",
    "            ('tfidf', TfidfTransformer())\n",
    "        ])),\n",
    "        ('text_len', LengthExtractor()),\n",
    "        ('url_count', UrlCounter()),\n",
    "    ])),\n",
    "    ('clf', RandomForestClassifier())\n",
    "])"
   ]
  },
  {
   "cell_type": "code",
   "execution_count": 71,
   "metadata": {},
   "outputs": [],
   "source": [
    "# split the data into train and test sets\n",
    "from sklearn.model_selection import train_test_split\n",
    "\n",
    "X_train, X_test, y_train, y_test = train_test_split(feature, target, test_size=0.2, random_state=42)"
   ]
  },
  {
   "cell_type": "code",
   "execution_count": 72,
   "metadata": {
    "scrolled": false
   },
   "outputs": [
    {
     "data": {
      "text/plain": [
       "Pipeline(steps=[('features',\n",
       "                 FeatureUnion(transformer_list=[('text_pipeline',\n",
       "                                                 Pipeline(steps=[('vect',\n",
       "                                                                  CountVectorizer(tokenizer=<function tokenize at 0x7ffaa629a940>)),\n",
       "                                                                 ('tfidf',\n",
       "                                                                  TfidfTransformer())])),\n",
       "                                                ('text_len', LengthExtractor()),\n",
       "                                                ('url_count', UrlCounter())])),\n",
       "                ('clf', RandomForestClassifier())])"
      ]
     },
     "execution_count": 72,
     "metadata": {},
     "output_type": "execute_result"
    }
   ],
   "source": [
    "# use pipeline.fit method to train the model\n",
    "pipeline.fit(X_train, y_train)"
   ]
  },
  {
   "cell_type": "markdown",
   "metadata": {},
   "source": [
    "### Task 6: Model Evaluation"
   ]
  },
  {
   "cell_type": "markdown",
   "metadata": {},
   "source": [
    "Now, once the model is trained, in this task we will evaluate how the model behaves in the test data"
   ]
  },
  {
   "cell_type": "code",
   "execution_count": 73,
   "metadata": {},
   "outputs": [],
   "source": [
    "# use the method pipeline.predict on X_test data to predict the labels\n",
    "y_pred = pipeline.predict(X_test)"
   ]
  },
  {
   "cell_type": "code",
   "execution_count": 98,
   "metadata": {
    "scrolled": false
   },
   "outputs": [
    {
     "data": {
      "text/plain": [
       "(624, 1)"
      ]
     },
     "execution_count": 98,
     "metadata": {},
     "output_type": "execute_result"
    }
   ],
   "source": [
    "y_pred.reshape(-1,1).shape"
   ]
  },
  {
   "cell_type": "code",
   "execution_count": 74,
   "metadata": {},
   "outputs": [
    {
     "data": {
      "text/plain": [
       "<AxesSubplot:>"
      ]
     },
     "execution_count": 74,
     "metadata": {},
     "output_type": "execute_result"
    },
    {
     "data": {
      "image/png": "[encoded data removed]",
      "text/plain": [
       "<Figure size 432x288 with 2 Axes>"
      ]
     },
     "metadata": {
      "needs_background": "light"
     },
     "output_type": "display_data"
    }
   ],
   "source": [
    "# create the confustion matrix, import confusion_matrix from sklearn\n",
    "# count the number of labels\n",
    "# use sns.heatmap on top of confusion_matrix to show the confusuin matrix\n",
    "\n",
    "from sklearn.metrics import confusion_matrix\n",
    "\n",
    "labels = np.unique(y_pred)\n",
    "\n",
    "sns.heatmap(confusion_matrix(y_test, y_pred, labels=labels), annot=True, fmt='.0f')"
   ]
  },
  {
   "cell_type": "code",
   "execution_count": 75,
   "metadata": {},
   "outputs": [
    {
     "name": "stdout",
     "output_type": "stream",
     "text": [
      "              precision    recall  f1-score   support\n",
      "\n",
      "      Action       0.82      0.75      0.78       143\n",
      "    Dialogue       0.94      0.69      0.80        49\n",
      "     Exclude       1.00      0.29      0.44         7\n",
      " Information       0.89      0.95      0.92       425\n",
      "\n",
      "    accuracy                           0.88       624\n",
      "   macro avg       0.91      0.67      0.74       624\n",
      "weighted avg       0.88      0.88      0.87       624\n",
      "\n"
     ]
    }
   ],
   "source": [
    "# create the classification report, import classification_report from sklearn\n",
    "# apply the function classification_report on y_test, y_pred and print it\n",
    "\n",
    "from sklearn.metrics import classification_report\n",
    "\n",
    "print(classification_report(y_test, y_pred))"
   ]
  },
  {
   "cell_type": "markdown",
   "metadata": {},
   "source": [
    "### Task 7: Conclusion and next steps"
   ]
  },
  {
   "cell_type": "markdown",
   "metadata": {},
   "source": [
    "How can you take this further? What more can you do?\n",
    "\n",
    "- hyper parameter tuning\n",
    "- more feature engineering\n",
    "- feature selection\n",
    "- trying different predictors"
   ]
  }
 ],
 "metadata": {
  "kernelspec": {
   "display_name": "Python 3",
   "language": "python",
   "name": "python3"
  },
  "language_info": {
   "codemirror_mode": {
    "name": "ipython",
    "version": 3
   },
   "file_extension": ".py",
   "mimetype": "text/x-python",
   "name": "python",
   "nbconvert_exporter": "python",
   "pygments_lexer": "ipython3",
   "version": "3.8.5"
  }
 },
 "nbformat": 4,
 "nbformat_minor": 4
}
