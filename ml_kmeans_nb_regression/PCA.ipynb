{
 "cells": [
  {
   "cell_type": "markdown",
   "metadata": {},
   "source": [
    "# Section 1.2: Dimension reduction and principal component analysis (PCA)\n",
    "\n",
    "One of the iron laws of data science is know as the \"[curse of dimensionality](https://en.wikipedia.org/wiki/Curse_of_dimensionality)\": as the number of considered features (dimensions) of a space increases, the number of data configurations grows exponentially. Thus the number of observations (data points) needed to account for these configurations must also increase. This fact of life has huge ramifications for the time, computational effort, and memory required. As a result, it is often desirable to reduce the number of dimensions we work with.\n",
    "\n",
    "The challenge is determining which features we can remove from our analysis.\n",
    "\n",
    "Not all features are created equal. Certain features may impede our analysis, or simply not be overly important. We need to identify the features to exclude, but obviously we can only take this so far. At a certain point reducing dimensions will also reduce the accuracy of a classifier and our analysis.\n",
    "\n",
    "## Our scenario\n",
    "\n",
    "We have a collection of foods and their nutrients. We'd like to group them together so we can see similar items. Our traditional categorization of dairy or vegetables aren't descriptive enouth, and can be a little misleading. For example, not all fruits are created equal - an avocado is rather different from a apple. We'd like to group our foods together based on their composition.\n",
    "\n",
    "As we begin our analysis, our initial challenge is trying to determine what makes a food item a food item? What components are most important? It's a real struggle to try to determine what components we should focus on."
   ]
  },
  {
   "cell_type": "markdown",
   "metadata": {},
   "source": [
    "## PCA in theory\n",
    "\n",
    "One way to reduce the number of dimensions we have to work with is by projecting (or converting) our feature space into a lower dimensional space. The reason why we can do this is that in most real-world problems, data points are not spread uniformly across all dimensions. Some features might be near constant, while others are highly correlated, which means that those data points lie close to a lower-dimensional subspace.\n",
    "\n",
    "\n",
    "### An analogy\n",
    "\n",
    "We can picture the process of PCA reducing the number of dimensions as we would, well, a picture. A picture is a two-dimensional representation of a three-dimensional world. But the reason a pixel sits where it does on a picture and looks how it looks is because of where it is on the X, Y and Z coordinates which make up the world we see. The picture isn't merely taking a two-dimensional slice, but rather consolidating three dimensions into two **new** dimensions.\n",
    "\n",
    "This is especially evident in a picture with a [bokeh](https://en.wikipedia.org/wiki/Bokeh) effect (those pictures where the subject is in focus and everything else is blurry). The photographer has exerted a fair bit of control over how the conversion from 3-D to 2-D is going to take place. The pixels making up our subject will show as sharp, while all other pixels will be fuzzy. Basically, the photographer is drawing our eyes to what's important.\n",
    "\n",
    "We can do the same with the dimensions (or columns) in our data, reducing the number and allowing us to focus (pun intended) on the important information.\n",
    "\n",
    "## PCA in action\n",
    "\n",
    "PCA behaves much in the same way, by allowing us to focus on what's important, specifically variance. Where are we seeing a spread of data? Where are we seeing change? What's truly impacting the data?\n",
    "\n",
    "Let's take a look at an example of a three dimensional data space as represented in the image below. The data points are not spread across the entire plane, but are nicely clumped, roughly in an oval. Because the cluster (or, indeed, any cluster) is roughly elliptical, it can be mathematically described by two values: its major (long) axis and its minor (short) axis. These axes form the *principal components* of the cluster. Basically, this is where the magic is happening for our data.\n",
    "\n",
    "<img align=\"center\" style=\"padding-right:10px;\" src=\"Images/PCA.png\">\n",
    "\n",
    "We can **construct a whole new feature space** around this cluster, defined by two *eigenvectors* (the vectors that define the linear transformation to this new feature space), $c_{1}$ and $c_{2}$. Better still, we don't have to consider all of the dimensions of this new space. Intuitively, we can see that most of the points lie on or close to the line that runs through $c_{1}$. So, if we project the cluster down from two dimensions to that single dimension, we capture most of the information about this data sense while simplifying our analysis. This ability to extract most of the information from a dataset by considering only a fraction of its definitive eigenvectors forms the heart of principal component analysis (PCA).\n",
    "\n",
    "## Import modules and dataset\n",
    "\n",
    "You will need to clean and prepare the data in order to conduct PCA on it, so pandas will be essential. You will also need NumPy, a bit of Scikit Learn, and pyplot."
   ]
  },
  {
   "cell_type": "code",
   "execution_count": 25,
   "metadata": {},
   "outputs": [],
   "source": [
    "import pandas as pd\n",
    "import numpy as np\n",
    "from sklearn.decomposition import PCA\n",
    "from sklearn.preprocessing import StandardScaler\n",
    "import matplotlib.pyplot as plt\n",
    "%matplotlib inline"
   ]
  },
  {
   "cell_type": "markdown",
   "metadata": {},
   "source": [
    "The dataset we’ll use here is the same one drawn from the [U.S. Department of Agriculture National Nutrient Database for Standard Reference](https://www.ars.usda.gov/northeast-area/beltsville-md-bhnrc/beltsville-human-nutrition-research-center/nutrient-data-laboratory/docs/usda-national-nutrient-database-for-standard-reference/) that you prepared in Section 1.1. Remember to set the encoding to `latin_1` (for those darn µg)."
   ]
  },
  {
   "cell_type": "code",
   "execution_count": 26,
   "metadata": {},
   "outputs": [],
   "source": [
    "df = pd.read_csv('Data/USDA-nndb-combined.csv', encoding='latin_1')"
   ]
  },
  {
   "cell_type": "markdown",
   "metadata": {},
   "source": [
    "We can check the number of columns and rows using the `info()` method for the `DataFrame`."
   ]
  },
  {
   "cell_type": "code",
   "execution_count": 27,
   "metadata": {},
   "outputs": [
    {
     "name": "stdout",
     "output_type": "stream",
     "text": [
      "<class 'pandas.core.frame.DataFrame'>\n",
      "RangeIndex: 8989 entries, 0 to 8988\n",
      "Data columns (total 54 columns):\n",
      " #   Column             Non-Null Count  Dtype  \n",
      "---  ------             --------------  -----  \n",
      " 0   NDB_No             8989 non-null   int64  \n",
      " 1   FoodGroup          8618 non-null   object \n",
      " 2   Shrt_Desc          8790 non-null   object \n",
      " 3   Water_(g)          8789 non-null   float64\n",
      " 4   Energ_Kcal         8790 non-null   float64\n",
      " 5   Protein_(g)        8790 non-null   float64\n",
      " 6   Lipid_Tot_(g)      8790 non-null   float64\n",
      " 7   Ash_(g)            8465 non-null   float64\n",
      " 8   Carbohydrt_(g)     8790 non-null   float64\n",
      " 9   Fiber_TD_(g)       8196 non-null   float64\n",
      " 10  Sugar_Tot_(g)      6958 non-null   float64\n",
      " 11  Calcium_(mg)       8442 non-null   float64\n",
      " 12  Iron_(mg)          8646 non-null   float64\n",
      " 13  Magnesium_(mg)     8051 non-null   float64\n",
      " 14  Phosphorus_(mg)    8211 non-null   float64\n",
      " 15  Potassium_(mg)     8364 non-null   float64\n",
      " 16  Sodium_(mg)        8707 non-null   float64\n",
      " 17  Zinc_(mg)          8084 non-null   float64\n",
      " 18  Copper_mg)         7533 non-null   float64\n",
      " 19  Manganese_(mg)     6630 non-null   float64\n",
      " 20  Selenium_(Âµg)     7090 non-null   float64\n",
      " 21  Vit_C_(mg)         7972 non-null   float64\n",
      " 22  Thiamin_(mg)       8156 non-null   float64\n",
      " 23  Riboflavin_(mg)    8174 non-null   float64\n",
      " 24  Niacin_(mg)        8153 non-null   float64\n",
      " 25  Panto_Acid_mg)     6548 non-null   float64\n",
      " 26  Vit_B6_(mg)        7885 non-null   float64\n",
      " 27  Folate_Tot_(Âµg)   7529 non-null   float64\n",
      " 28  Folic_Acid_(Âµg)   6751 non-null   float64\n",
      " 29  Food_Folate_(Âµg)  7022 non-null   float64\n",
      " 30  Folate_DFE_(Âµg)   6733 non-null   float64\n",
      " 31  Choline_Tot_ (mg)  4774 non-null   float64\n",
      " 32  Vit_B12_(Âµg)      7597 non-null   float64\n",
      " 33  Vit_A_IU           8079 non-null   float64\n",
      " 34  Vit_A_RAE          7255 non-null   float64\n",
      " 35  Retinol_(Âµg)      6984 non-null   float64\n",
      " 36  Alpha_Carot_(Âµg)  5532 non-null   float64\n",
      " 37  Beta_Carot_(Âµg)   5628 non-null   float64\n",
      " 38  Beta_Crypt_(Âµg)   5520 non-null   float64\n",
      " 39  Lycopene_(Âµg)     5498 non-null   float64\n",
      " 40  Lut+Zea_ (Âµg)     5475 non-null   float64\n",
      " 41  Vit_E_(mg)         5901 non-null   float64\n",
      " 42  Vit_D_Âµg          5528 non-null   float64\n",
      " 43  Vit_D_IU           5579 non-null   float64\n",
      " 44  Vit_K_(Âµg)        5227 non-null   float64\n",
      " 45  FA_Sat_(g)         8441 non-null   float64\n",
      " 46  FA_Mono_(g)        8124 non-null   float64\n",
      " 47  FA_Poly_(g)        8125 non-null   float64\n",
      " 48  Cholestrl_(mg)     8380 non-null   float64\n",
      " 49  GmWt_1             8490 non-null   float64\n",
      " 50  GmWt_Desc1         8491 non-null   object \n",
      " 51  GmWt_2             4825 non-null   float64\n",
      " 52  GmWt_Desc2         4825 non-null   object \n",
      " 53  Refuse_Pct         8740 non-null   float64\n",
      "dtypes: float64(49), int64(1), object(4)\n",
      "memory usage: 3.7+ MB\n"
     ]
    }
   ],
   "source": [
    "df.info()"
   ]
  },
  {
   "cell_type": "markdown",
   "metadata": {},
   "source": [
    "> **Exercise**\n",
    ">\n",
    "> Can you think of a more concise way to check the number of rows and columns in a `DataFrame`? (***Hint:*** Use one of the [attributes](https://pandas.pydata.org/pandas-docs/stable/reference/api/pandas.DataFrame.html) of the `DataFrame`.)"
   ]
  },
  {
   "cell_type": "code",
   "execution_count": null,
   "metadata": {},
   "outputs": [],
   "source": []
  },
  {
   "cell_type": "markdown",
   "metadata": {},
   "source": [
    "## Handle `null` values\n",
    "\n",
    "Because this is a real-world dataset, it is a safe bet that it has `null` values in it. We could first check to see if this is true. However, later on in this section, we will have to transform our data using a function that cannot use `NaN` values, so we might as well drop rows containing those values."
   ]
  },
  {
   "cell_type": "markdown",
   "metadata": {},
   "source": [
    "> **Exercise**\n",
    ">\n",
    "> Drop rows from the `DataFrame` that contain `NaN` values. (If you need help remembering which method to use, see [this page](https://pandas.pydata.org/pandas-docs/stable/reference/api/pandas.DataFrame.dropna.html).)"
   ]
  },
  {
   "cell_type": "code",
   "execution_count": 30,
   "metadata": {},
   "outputs": [
    {
     "data": {
      "text/html": [
       "<div>\n",
       "<style scoped>\n",
       "    .dataframe tbody tr th:only-of-type {\n",
       "        vertical-align: middle;\n",
       "    }\n",
       "\n",
       "    .dataframe tbody tr th {\n",
       "        vertical-align: top;\n",
       "    }\n",
       "\n",
       "    .dataframe thead th {\n",
       "        text-align: right;\n",
       "    }\n",
       "</style>\n",
       "<table border=\"1\" class=\"dataframe\">\n",
       "  <thead>\n",
       "    <tr style=\"text-align: right;\">\n",
       "      <th></th>\n",
       "      <th>NDB_No</th>\n",
       "      <th>FoodGroup</th>\n",
       "      <th>Shrt_Desc</th>\n",
       "      <th>Water_(g)</th>\n",
       "      <th>Energ_Kcal</th>\n",
       "      <th>Protein_(g)</th>\n",
       "      <th>Lipid_Tot_(g)</th>\n",
       "      <th>Ash_(g)</th>\n",
       "      <th>Carbohydrt_(g)</th>\n",
       "      <th>Fiber_TD_(g)</th>\n",
       "      <th>...</th>\n",
       "      <th>Vit_K_(Âµg)</th>\n",
       "      <th>FA_Sat_(g)</th>\n",
       "      <th>FA_Mono_(g)</th>\n",
       "      <th>FA_Poly_(g)</th>\n",
       "      <th>Cholestrl_(mg)</th>\n",
       "      <th>GmWt_1</th>\n",
       "      <th>GmWt_Desc1</th>\n",
       "      <th>GmWt_2</th>\n",
       "      <th>GmWt_Desc2</th>\n",
       "      <th>Refuse_Pct</th>\n",
       "    </tr>\n",
       "  </thead>\n",
       "  <tbody>\n",
       "    <tr>\n",
       "      <th>0</th>\n",
       "      <td>1001</td>\n",
       "      <td>Dairy and Egg Products</td>\n",
       "      <td>BUTTER,WITH SALT</td>\n",
       "      <td>15.87</td>\n",
       "      <td>717.0</td>\n",
       "      <td>0.85</td>\n",
       "      <td>81.11</td>\n",
       "      <td>2.11</td>\n",
       "      <td>0.06</td>\n",
       "      <td>0.0</td>\n",
       "      <td>...</td>\n",
       "      <td>7.0</td>\n",
       "      <td>51.368</td>\n",
       "      <td>21.021</td>\n",
       "      <td>3.043</td>\n",
       "      <td>215.0</td>\n",
       "      <td>5.00</td>\n",
       "      <td>1 pat,  (1\" sq, 1/3\" high)</td>\n",
       "      <td>14.2</td>\n",
       "      <td>1 tbsp</td>\n",
       "      <td>0.0</td>\n",
       "    </tr>\n",
       "    <tr>\n",
       "      <th>1</th>\n",
       "      <td>1002</td>\n",
       "      <td>Dairy and Egg Products</td>\n",
       "      <td>BUTTER,WHIPPED,W/ SALT</td>\n",
       "      <td>16.72</td>\n",
       "      <td>718.0</td>\n",
       "      <td>0.49</td>\n",
       "      <td>78.30</td>\n",
       "      <td>1.62</td>\n",
       "      <td>2.87</td>\n",
       "      <td>0.0</td>\n",
       "      <td>...</td>\n",
       "      <td>4.6</td>\n",
       "      <td>45.390</td>\n",
       "      <td>19.874</td>\n",
       "      <td>3.331</td>\n",
       "      <td>225.0</td>\n",
       "      <td>3.80</td>\n",
       "      <td>1 pat,  (1\" sq, 1/3\" high)</td>\n",
       "      <td>9.4</td>\n",
       "      <td>1 tbsp</td>\n",
       "      <td>0.0</td>\n",
       "    </tr>\n",
       "    <tr>\n",
       "      <th>2</th>\n",
       "      <td>1003</td>\n",
       "      <td>Dairy and Egg Products</td>\n",
       "      <td>BUTTER OIL,ANHYDROUS</td>\n",
       "      <td>0.24</td>\n",
       "      <td>876.0</td>\n",
       "      <td>0.28</td>\n",
       "      <td>99.48</td>\n",
       "      <td>0.00</td>\n",
       "      <td>0.00</td>\n",
       "      <td>0.0</td>\n",
       "      <td>...</td>\n",
       "      <td>8.6</td>\n",
       "      <td>61.924</td>\n",
       "      <td>28.732</td>\n",
       "      <td>3.694</td>\n",
       "      <td>256.0</td>\n",
       "      <td>12.80</td>\n",
       "      <td>1 tbsp</td>\n",
       "      <td>205.0</td>\n",
       "      <td>1 cup</td>\n",
       "      <td>0.0</td>\n",
       "    </tr>\n",
       "    <tr>\n",
       "      <th>3</th>\n",
       "      <td>1004</td>\n",
       "      <td>Dairy and Egg Products</td>\n",
       "      <td>CHEESE,BLUE</td>\n",
       "      <td>42.41</td>\n",
       "      <td>353.0</td>\n",
       "      <td>21.40</td>\n",
       "      <td>28.74</td>\n",
       "      <td>5.11</td>\n",
       "      <td>2.34</td>\n",
       "      <td>0.0</td>\n",
       "      <td>...</td>\n",
       "      <td>2.4</td>\n",
       "      <td>18.669</td>\n",
       "      <td>7.778</td>\n",
       "      <td>0.800</td>\n",
       "      <td>75.0</td>\n",
       "      <td>28.35</td>\n",
       "      <td>1 oz</td>\n",
       "      <td>17.0</td>\n",
       "      <td>1 cubic inch</td>\n",
       "      <td>0.0</td>\n",
       "    </tr>\n",
       "    <tr>\n",
       "      <th>4</th>\n",
       "      <td>1005</td>\n",
       "      <td>Dairy and Egg Products</td>\n",
       "      <td>CHEESE,BRICK</td>\n",
       "      <td>41.11</td>\n",
       "      <td>371.0</td>\n",
       "      <td>23.24</td>\n",
       "      <td>29.68</td>\n",
       "      <td>3.18</td>\n",
       "      <td>2.79</td>\n",
       "      <td>0.0</td>\n",
       "      <td>...</td>\n",
       "      <td>2.5</td>\n",
       "      <td>18.764</td>\n",
       "      <td>8.598</td>\n",
       "      <td>0.784</td>\n",
       "      <td>94.0</td>\n",
       "      <td>132.00</td>\n",
       "      <td>1 cup, diced</td>\n",
       "      <td>113.0</td>\n",
       "      <td>1 cup, shredded</td>\n",
       "      <td>0.0</td>\n",
       "    </tr>\n",
       "    <tr>\n",
       "      <th>...</th>\n",
       "      <td>...</td>\n",
       "      <td>...</td>\n",
       "      <td>...</td>\n",
       "      <td>...</td>\n",
       "      <td>...</td>\n",
       "      <td>...</td>\n",
       "      <td>...</td>\n",
       "      <td>...</td>\n",
       "      <td>...</td>\n",
       "      <td>...</td>\n",
       "      <td>...</td>\n",
       "      <td>...</td>\n",
       "      <td>...</td>\n",
       "      <td>...</td>\n",
       "      <td>...</td>\n",
       "      <td>...</td>\n",
       "      <td>...</td>\n",
       "      <td>...</td>\n",
       "      <td>...</td>\n",
       "      <td>...</td>\n",
       "      <td>...</td>\n",
       "    </tr>\n",
       "    <tr>\n",
       "      <th>8984</th>\n",
       "      <td>33879</td>\n",
       "      <td>NaN</td>\n",
       "      <td>BABYFOOD,FINGER SNACKS,GERB,GRADUAT,LIL CRUNCH...</td>\n",
       "      <td>1.64</td>\n",
       "      <td>513.0</td>\n",
       "      <td>8.26</td>\n",
       "      <td>27.76</td>\n",
       "      <td>4.73</td>\n",
       "      <td>57.61</td>\n",
       "      <td>5.2</td>\n",
       "      <td>...</td>\n",
       "      <td>1.4</td>\n",
       "      <td>5.200</td>\n",
       "      <td>7.093</td>\n",
       "      <td>11.678</td>\n",
       "      <td>0.0</td>\n",
       "      <td>NaN</td>\n",
       "      <td>NaN</td>\n",
       "      <td>NaN</td>\n",
       "      <td>NaN</td>\n",
       "      <td>0.0</td>\n",
       "    </tr>\n",
       "    <tr>\n",
       "      <th>8985</th>\n",
       "      <td>36633</td>\n",
       "      <td>NaN</td>\n",
       "      <td>RESTAURANT,CHINESE,SESAME CHICK</td>\n",
       "      <td>42.80</td>\n",
       "      <td>293.0</td>\n",
       "      <td>14.33</td>\n",
       "      <td>14.25</td>\n",
       "      <td>1.74</td>\n",
       "      <td>26.88</td>\n",
       "      <td>0.7</td>\n",
       "      <td>...</td>\n",
       "      <td>27.1</td>\n",
       "      <td>2.410</td>\n",
       "      <td>3.546</td>\n",
       "      <td>6.885</td>\n",
       "      <td>59.0</td>\n",
       "      <td>547.00</td>\n",
       "      <td>1 order</td>\n",
       "      <td>NaN</td>\n",
       "      <td>NaN</td>\n",
       "      <td>0.0</td>\n",
       "    </tr>\n",
       "    <tr>\n",
       "      <th>8986</th>\n",
       "      <td>43027</td>\n",
       "      <td>NaN</td>\n",
       "      <td>JELLIES,NO SUGAR (WITH NA SACCHARIN),ANY FLAVORS</td>\n",
       "      <td>69.53</td>\n",
       "      <td>121.0</td>\n",
       "      <td>0.55</td>\n",
       "      <td>0.00</td>\n",
       "      <td>0.32</td>\n",
       "      <td>29.60</td>\n",
       "      <td>2.2</td>\n",
       "      <td>...</td>\n",
       "      <td>1.2</td>\n",
       "      <td>0.000</td>\n",
       "      <td>0.000</td>\n",
       "      <td>0.000</td>\n",
       "      <td>0.0</td>\n",
       "      <td>300.00</td>\n",
       "      <td>1 cup</td>\n",
       "      <td>19.0</td>\n",
       "      <td>1 tbsp</td>\n",
       "      <td>0.0</td>\n",
       "    </tr>\n",
       "    <tr>\n",
       "      <th>8987</th>\n",
       "      <td>43059</td>\n",
       "      <td>NaN</td>\n",
       "      <td>CANDIES,CHOC COVERED,LO SUGAR OR LO CAL</td>\n",
       "      <td>4.00</td>\n",
       "      <td>590.0</td>\n",
       "      <td>12.39</td>\n",
       "      <td>43.27</td>\n",
       "      <td>2.67</td>\n",
       "      <td>37.68</td>\n",
       "      <td>3.5</td>\n",
       "      <td>...</td>\n",
       "      <td>7.5</td>\n",
       "      <td>21.723</td>\n",
       "      <td>10.884</td>\n",
       "      <td>4.349</td>\n",
       "      <td>22.0</td>\n",
       "      <td>NaN</td>\n",
       "      <td>NaN</td>\n",
       "      <td>NaN</td>\n",
       "      <td>NaN</td>\n",
       "      <td>0.0</td>\n",
       "    </tr>\n",
       "    <tr>\n",
       "      <th>8988</th>\n",
       "      <td>43344</td>\n",
       "      <td>NaN</td>\n",
       "      <td>JAMS,PRESERVES,MARMALADE,RED SUGAR</td>\n",
       "      <td>62.00</td>\n",
       "      <td>151.0</td>\n",
       "      <td>0.00</td>\n",
       "      <td>0.10</td>\n",
       "      <td>0.30</td>\n",
       "      <td>37.60</td>\n",
       "      <td>1.5</td>\n",
       "      <td>...</td>\n",
       "      <td>1.6</td>\n",
       "      <td>0.005</td>\n",
       "      <td>0.014</td>\n",
       "      <td>0.050</td>\n",
       "      <td>0.0</td>\n",
       "      <td>NaN</td>\n",
       "      <td>NaN</td>\n",
       "      <td>NaN</td>\n",
       "      <td>NaN</td>\n",
       "      <td>0.0</td>\n",
       "    </tr>\n",
       "  </tbody>\n",
       "</table>\n",
       "<p>8989 rows × 54 columns</p>\n",
       "</div>"
      ],
      "text/plain": [
       "      NDB_No               FoodGroup  \\\n",
       "0       1001  Dairy and Egg Products   \n",
       "1       1002  Dairy and Egg Products   \n",
       "2       1003  Dairy and Egg Products   \n",
       "3       1004  Dairy and Egg Products   \n",
       "4       1005  Dairy and Egg Products   \n",
       "...      ...                     ...   \n",
       "8984   33879                     NaN   \n",
       "8985   36633                     NaN   \n",
       "8986   43027                     NaN   \n",
       "8987   43059                     NaN   \n",
       "8988   43344                     NaN   \n",
       "\n",
       "                                              Shrt_Desc  Water_(g)  \\\n",
       "0                                      BUTTER,WITH SALT      15.87   \n",
       "1                                BUTTER,WHIPPED,W/ SALT      16.72   \n",
       "2                                  BUTTER OIL,ANHYDROUS       0.24   \n",
       "3                                           CHEESE,BLUE      42.41   \n",
       "4                                          CHEESE,BRICK      41.11   \n",
       "...                                                 ...        ...   \n",
       "8984  BABYFOOD,FINGER SNACKS,GERB,GRADUAT,LIL CRUNCH...       1.64   \n",
       "8985                    RESTAURANT,CHINESE,SESAME CHICK      42.80   \n",
       "8986   JELLIES,NO SUGAR (WITH NA SACCHARIN),ANY FLAVORS      69.53   \n",
       "8987            CANDIES,CHOC COVERED,LO SUGAR OR LO CAL       4.00   \n",
       "8988                 JAMS,PRESERVES,MARMALADE,RED SUGAR      62.00   \n",
       "\n",
       "      Energ_Kcal  Protein_(g)  Lipid_Tot_(g)  Ash_(g)  Carbohydrt_(g)  \\\n",
       "0          717.0         0.85          81.11     2.11            0.06   \n",
       "1          718.0         0.49          78.30     1.62            2.87   \n",
       "2          876.0         0.28          99.48     0.00            0.00   \n",
       "3          353.0        21.40          28.74     5.11            2.34   \n",
       "4          371.0        23.24          29.68     3.18            2.79   \n",
       "...          ...          ...            ...      ...             ...   \n",
       "8984       513.0         8.26          27.76     4.73           57.61   \n",
       "8985       293.0        14.33          14.25     1.74           26.88   \n",
       "8986       121.0         0.55           0.00     0.32           29.60   \n",
       "8987       590.0        12.39          43.27     2.67           37.68   \n",
       "8988       151.0         0.00           0.10     0.30           37.60   \n",
       "\n",
       "      Fiber_TD_(g)  ...  Vit_K_(Âµg)  FA_Sat_(g)  FA_Mono_(g)  FA_Poly_(g)  \\\n",
       "0              0.0  ...          7.0      51.368       21.021        3.043   \n",
       "1              0.0  ...          4.6      45.390       19.874        3.331   \n",
       "2              0.0  ...          8.6      61.924       28.732        3.694   \n",
       "3              0.0  ...          2.4      18.669        7.778        0.800   \n",
       "4              0.0  ...          2.5      18.764        8.598        0.784   \n",
       "...            ...  ...          ...         ...          ...          ...   \n",
       "8984           5.2  ...          1.4       5.200        7.093       11.678   \n",
       "8985           0.7  ...         27.1       2.410        3.546        6.885   \n",
       "8986           2.2  ...          1.2       0.000        0.000        0.000   \n",
       "8987           3.5  ...          7.5      21.723       10.884        4.349   \n",
       "8988           1.5  ...          1.6       0.005        0.014        0.050   \n",
       "\n",
       "      Cholestrl_(mg)  GmWt_1                  GmWt_Desc1  GmWt_2  \\\n",
       "0              215.0    5.00  1 pat,  (1\" sq, 1/3\" high)    14.2   \n",
       "1              225.0    3.80  1 pat,  (1\" sq, 1/3\" high)     9.4   \n",
       "2              256.0   12.80                      1 tbsp   205.0   \n",
       "3               75.0   28.35                        1 oz    17.0   \n",
       "4               94.0  132.00                1 cup, diced   113.0   \n",
       "...              ...     ...                         ...     ...   \n",
       "8984             0.0     NaN                         NaN     NaN   \n",
       "8985            59.0  547.00                     1 order     NaN   \n",
       "8986             0.0  300.00                       1 cup    19.0   \n",
       "8987            22.0     NaN                         NaN     NaN   \n",
       "8988             0.0     NaN                         NaN     NaN   \n",
       "\n",
       "           GmWt_Desc2  Refuse_Pct  \n",
       "0              1 tbsp         0.0  \n",
       "1              1 tbsp         0.0  \n",
       "2               1 cup         0.0  \n",
       "3        1 cubic inch         0.0  \n",
       "4     1 cup, shredded         0.0  \n",
       "...               ...         ...  \n",
       "8984              NaN         0.0  \n",
       "8985              NaN         0.0  \n",
       "8986           1 tbsp         0.0  \n",
       "8987              NaN         0.0  \n",
       "8988              NaN         0.0  \n",
       "\n",
       "[8989 rows x 54 columns]"
      ]
     },
     "execution_count": 30,
     "metadata": {},
     "output_type": "execute_result"
    }
   ],
   "source": [
    "# Run the code to drop all null and NaN values\n",
    "df.dropna(how='all')"
   ]
  },
  {
   "cell_type": "markdown",
   "metadata": {},
   "source": [
    "Now let’s see how many rows we have left."
   ]
  },
  {
   "cell_type": "code",
   "execution_count": 31,
   "metadata": {},
   "outputs": [
    {
     "data": {
      "text/plain": [
       "(8989, 54)"
      ]
     },
     "execution_count": 31,
     "metadata": {},
     "output_type": "execute_result"
    }
   ],
   "source": [
    "df.shape"
   ]
  },
  {
   "cell_type": "markdown",
   "metadata": {},
   "source": [
    "Dropping those rows eliminated 76 percent of our data (8989 entries to 2190). An imperfect state of affairs, but we still have enough for our purposes in this section.\n",
    "\n",
    "> **Key takeaway:** Another solution to removing `null` values is to impute values for them, but this can be tricky. Should we handle missing values as equal to 0? What about a fatty food with `NaN` for `Lipid_Tot_(g)`? We could try taking the averages of values surrounding a `NaN`, but what about foods that are right next to rows containing foods from radically different food groups? It is possible to make justifiable imputations for missing values, but it can be important to involve subject-matter experts (SMEs) in that process."
   ]
  },
  {
   "cell_type": "markdown",
   "metadata": {},
   "source": [
    "## Split off descriptive columns\n",
    "\n",
    "Our descriptive columns (such as `FoodGroup` and `Shrt_Desc`) pose challenges for us when it comes time to perform PCA because they are categorical rather than numerical features, so we will split our `DataFrame` in to one containing the descriptive information and one containing the nutritional information."
   ]
  },
  {
   "cell_type": "code",
   "execution_count": 32,
   "metadata": {},
   "outputs": [
    {
     "data": {
      "text/html": [
       "<div>\n",
       "<style scoped>\n",
       "    .dataframe tbody tr th:only-of-type {\n",
       "        vertical-align: middle;\n",
       "    }\n",
       "\n",
       "    .dataframe tbody tr th {\n",
       "        vertical-align: top;\n",
       "    }\n",
       "\n",
       "    .dataframe thead th {\n",
       "        text-align: right;\n",
       "    }\n",
       "</style>\n",
       "<table border=\"1\" class=\"dataframe\">\n",
       "  <thead>\n",
       "    <tr style=\"text-align: right;\">\n",
       "      <th></th>\n",
       "      <th>FoodGroup</th>\n",
       "      <th>Shrt_Desc</th>\n",
       "      <th>GmWt_Desc1</th>\n",
       "      <th>GmWt_2</th>\n",
       "      <th>GmWt_Desc2</th>\n",
       "      <th>Refuse_Pct</th>\n",
       "    </tr>\n",
       "    <tr>\n",
       "      <th>NDB_No</th>\n",
       "      <th></th>\n",
       "      <th></th>\n",
       "      <th></th>\n",
       "      <th></th>\n",
       "      <th></th>\n",
       "      <th></th>\n",
       "    </tr>\n",
       "  </thead>\n",
       "  <tbody>\n",
       "    <tr>\n",
       "      <th>1001</th>\n",
       "      <td>Dairy and Egg Products</td>\n",
       "      <td>BUTTER,WITH SALT</td>\n",
       "      <td>1 pat,  (1\" sq, 1/3\" high)</td>\n",
       "      <td>14.2</td>\n",
       "      <td>1 tbsp</td>\n",
       "      <td>0.0</td>\n",
       "    </tr>\n",
       "    <tr>\n",
       "      <th>1002</th>\n",
       "      <td>Dairy and Egg Products</td>\n",
       "      <td>BUTTER,WHIPPED,W/ SALT</td>\n",
       "      <td>1 pat,  (1\" sq, 1/3\" high)</td>\n",
       "      <td>9.4</td>\n",
       "      <td>1 tbsp</td>\n",
       "      <td>0.0</td>\n",
       "    </tr>\n",
       "    <tr>\n",
       "      <th>1003</th>\n",
       "      <td>Dairy and Egg Products</td>\n",
       "      <td>BUTTER OIL,ANHYDROUS</td>\n",
       "      <td>1 tbsp</td>\n",
       "      <td>205.0</td>\n",
       "      <td>1 cup</td>\n",
       "      <td>0.0</td>\n",
       "    </tr>\n",
       "    <tr>\n",
       "      <th>1004</th>\n",
       "      <td>Dairy and Egg Products</td>\n",
       "      <td>CHEESE,BLUE</td>\n",
       "      <td>1 oz</td>\n",
       "      <td>17.0</td>\n",
       "      <td>1 cubic inch</td>\n",
       "      <td>0.0</td>\n",
       "    </tr>\n",
       "    <tr>\n",
       "      <th>1005</th>\n",
       "      <td>Dairy and Egg Products</td>\n",
       "      <td>CHEESE,BRICK</td>\n",
       "      <td>1 cup, diced</td>\n",
       "      <td>113.0</td>\n",
       "      <td>1 cup, shredded</td>\n",
       "      <td>0.0</td>\n",
       "    </tr>\n",
       "  </tbody>\n",
       "</table>\n",
       "</div>"
      ],
      "text/plain": [
       "                     FoodGroup               Shrt_Desc  \\\n",
       "NDB_No                                                   \n",
       "1001    Dairy and Egg Products        BUTTER,WITH SALT   \n",
       "1002    Dairy and Egg Products  BUTTER,WHIPPED,W/ SALT   \n",
       "1003    Dairy and Egg Products    BUTTER OIL,ANHYDROUS   \n",
       "1004    Dairy and Egg Products             CHEESE,BLUE   \n",
       "1005    Dairy and Egg Products            CHEESE,BRICK   \n",
       "\n",
       "                        GmWt_Desc1  GmWt_2       GmWt_Desc2  Refuse_Pct  \n",
       "NDB_No                                                                   \n",
       "1001    1 pat,  (1\" sq, 1/3\" high)    14.2           1 tbsp         0.0  \n",
       "1002    1 pat,  (1\" sq, 1/3\" high)     9.4           1 tbsp         0.0  \n",
       "1003                        1 tbsp   205.0            1 cup         0.0  \n",
       "1004                          1 oz    17.0     1 cubic inch         0.0  \n",
       "1005                  1 cup, diced   113.0  1 cup, shredded         0.0  "
      ]
     },
     "execution_count": 32,
     "metadata": {},
     "output_type": "execute_result"
    }
   ],
   "source": [
    "desc_df = df.iloc[:, [0, 1, 2]+[i for i in range(50,54)]]\n",
    "desc_df.set_index('NDB_No', inplace=True)\n",
    "desc_df.head()"
   ]
  },
  {
   "cell_type": "markdown",
   "metadata": {},
   "source": [
    "> **Question**\n",
    ">\n",
    "> Why was it necessary to structure the `iloc` method call the way we did in the code cell above? What did it accomplish? Why was it necessary set the `desc_df` index to `NDB_No`?"
   ]
  },
  {
   "cell_type": "code",
   "execution_count": 33,
   "metadata": {},
   "outputs": [
    {
     "data": {
      "text/html": [
       "<div>\n",
       "<style scoped>\n",
       "    .dataframe tbody tr th:only-of-type {\n",
       "        vertical-align: middle;\n",
       "    }\n",
       "\n",
       "    .dataframe tbody tr th {\n",
       "        vertical-align: top;\n",
       "    }\n",
       "\n",
       "    .dataframe thead th {\n",
       "        text-align: right;\n",
       "    }\n",
       "</style>\n",
       "<table border=\"1\" class=\"dataframe\">\n",
       "  <thead>\n",
       "    <tr style=\"text-align: right;\">\n",
       "      <th></th>\n",
       "      <th>NDB_No</th>\n",
       "      <th>FoodGroup</th>\n",
       "      <th>Shrt_Desc</th>\n",
       "      <th>Water_(g)</th>\n",
       "      <th>Energ_Kcal</th>\n",
       "      <th>Protein_(g)</th>\n",
       "      <th>Lipid_Tot_(g)</th>\n",
       "      <th>Ash_(g)</th>\n",
       "      <th>Carbohydrt_(g)</th>\n",
       "      <th>Fiber_TD_(g)</th>\n",
       "      <th>...</th>\n",
       "      <th>Lycopene_(Âµg)</th>\n",
       "      <th>Lut+Zea_ (Âµg)</th>\n",
       "      <th>Vit_E_(mg)</th>\n",
       "      <th>Vit_D_Âµg</th>\n",
       "      <th>Vit_D_IU</th>\n",
       "      <th>Vit_K_(Âµg)</th>\n",
       "      <th>FA_Sat_(g)</th>\n",
       "      <th>FA_Mono_(g)</th>\n",
       "      <th>FA_Poly_(g)</th>\n",
       "      <th>Cholestrl_(mg)</th>\n",
       "    </tr>\n",
       "  </thead>\n",
       "  <tbody>\n",
       "    <tr>\n",
       "      <th>0</th>\n",
       "      <td>1001</td>\n",
       "      <td>Dairy and Egg Products</td>\n",
       "      <td>BUTTER,WITH SALT</td>\n",
       "      <td>15.87</td>\n",
       "      <td>717.0</td>\n",
       "      <td>0.85</td>\n",
       "      <td>81.11</td>\n",
       "      <td>2.11</td>\n",
       "      <td>0.06</td>\n",
       "      <td>0.0</td>\n",
       "      <td>...</td>\n",
       "      <td>0.0</td>\n",
       "      <td>0.0</td>\n",
       "      <td>2.32</td>\n",
       "      <td>0.0</td>\n",
       "      <td>0.0</td>\n",
       "      <td>7.0</td>\n",
       "      <td>51.368</td>\n",
       "      <td>21.021</td>\n",
       "      <td>3.043</td>\n",
       "      <td>215.0</td>\n",
       "    </tr>\n",
       "    <tr>\n",
       "      <th>1</th>\n",
       "      <td>1002</td>\n",
       "      <td>Dairy and Egg Products</td>\n",
       "      <td>BUTTER,WHIPPED,W/ SALT</td>\n",
       "      <td>16.72</td>\n",
       "      <td>718.0</td>\n",
       "      <td>0.49</td>\n",
       "      <td>78.30</td>\n",
       "      <td>1.62</td>\n",
       "      <td>2.87</td>\n",
       "      <td>0.0</td>\n",
       "      <td>...</td>\n",
       "      <td>0.0</td>\n",
       "      <td>13.0</td>\n",
       "      <td>1.37</td>\n",
       "      <td>0.0</td>\n",
       "      <td>0.0</td>\n",
       "      <td>4.6</td>\n",
       "      <td>45.390</td>\n",
       "      <td>19.874</td>\n",
       "      <td>3.331</td>\n",
       "      <td>225.0</td>\n",
       "    </tr>\n",
       "    <tr>\n",
       "      <th>2</th>\n",
       "      <td>1003</td>\n",
       "      <td>Dairy and Egg Products</td>\n",
       "      <td>BUTTER OIL,ANHYDROUS</td>\n",
       "      <td>0.24</td>\n",
       "      <td>876.0</td>\n",
       "      <td>0.28</td>\n",
       "      <td>99.48</td>\n",
       "      <td>0.00</td>\n",
       "      <td>0.00</td>\n",
       "      <td>0.0</td>\n",
       "      <td>...</td>\n",
       "      <td>0.0</td>\n",
       "      <td>0.0</td>\n",
       "      <td>2.80</td>\n",
       "      <td>0.0</td>\n",
       "      <td>0.0</td>\n",
       "      <td>8.6</td>\n",
       "      <td>61.924</td>\n",
       "      <td>28.732</td>\n",
       "      <td>3.694</td>\n",
       "      <td>256.0</td>\n",
       "    </tr>\n",
       "    <tr>\n",
       "      <th>3</th>\n",
       "      <td>1004</td>\n",
       "      <td>Dairy and Egg Products</td>\n",
       "      <td>CHEESE,BLUE</td>\n",
       "      <td>42.41</td>\n",
       "      <td>353.0</td>\n",
       "      <td>21.40</td>\n",
       "      <td>28.74</td>\n",
       "      <td>5.11</td>\n",
       "      <td>2.34</td>\n",
       "      <td>0.0</td>\n",
       "      <td>...</td>\n",
       "      <td>0.0</td>\n",
       "      <td>0.0</td>\n",
       "      <td>0.25</td>\n",
       "      <td>0.5</td>\n",
       "      <td>21.0</td>\n",
       "      <td>2.4</td>\n",
       "      <td>18.669</td>\n",
       "      <td>7.778</td>\n",
       "      <td>0.800</td>\n",
       "      <td>75.0</td>\n",
       "    </tr>\n",
       "    <tr>\n",
       "      <th>4</th>\n",
       "      <td>1005</td>\n",
       "      <td>Dairy and Egg Products</td>\n",
       "      <td>CHEESE,BRICK</td>\n",
       "      <td>41.11</td>\n",
       "      <td>371.0</td>\n",
       "      <td>23.24</td>\n",
       "      <td>29.68</td>\n",
       "      <td>3.18</td>\n",
       "      <td>2.79</td>\n",
       "      <td>0.0</td>\n",
       "      <td>...</td>\n",
       "      <td>0.0</td>\n",
       "      <td>0.0</td>\n",
       "      <td>0.26</td>\n",
       "      <td>0.5</td>\n",
       "      <td>22.0</td>\n",
       "      <td>2.5</td>\n",
       "      <td>18.764</td>\n",
       "      <td>8.598</td>\n",
       "      <td>0.784</td>\n",
       "      <td>94.0</td>\n",
       "    </tr>\n",
       "  </tbody>\n",
       "</table>\n",
       "<p>5 rows × 49 columns</p>\n",
       "</div>"
      ],
      "text/plain": [
       "   NDB_No               FoodGroup               Shrt_Desc  Water_(g)  \\\n",
       "0    1001  Dairy and Egg Products        BUTTER,WITH SALT      15.87   \n",
       "1    1002  Dairy and Egg Products  BUTTER,WHIPPED,W/ SALT      16.72   \n",
       "2    1003  Dairy and Egg Products    BUTTER OIL,ANHYDROUS       0.24   \n",
       "3    1004  Dairy and Egg Products             CHEESE,BLUE      42.41   \n",
       "4    1005  Dairy and Egg Products            CHEESE,BRICK      41.11   \n",
       "\n",
       "   Energ_Kcal  Protein_(g)  Lipid_Tot_(g)  Ash_(g)  Carbohydrt_(g)  \\\n",
       "0       717.0         0.85          81.11     2.11            0.06   \n",
       "1       718.0         0.49          78.30     1.62            2.87   \n",
       "2       876.0         0.28          99.48     0.00            0.00   \n",
       "3       353.0        21.40          28.74     5.11            2.34   \n",
       "4       371.0        23.24          29.68     3.18            2.79   \n",
       "\n",
       "   Fiber_TD_(g)  ...  Lycopene_(Âµg)  Lut+Zea_ (Âµg)  Vit_E_(mg)  Vit_D_Âµg  \\\n",
       "0           0.0  ...             0.0             0.0        2.32        0.0   \n",
       "1           0.0  ...             0.0            13.0        1.37        0.0   \n",
       "2           0.0  ...             0.0             0.0        2.80        0.0   \n",
       "3           0.0  ...             0.0             0.0        0.25        0.5   \n",
       "4           0.0  ...             0.0             0.0        0.26        0.5   \n",
       "\n",
       "   Vit_D_IU  Vit_K_(Âµg)  FA_Sat_(g)  FA_Mono_(g)  FA_Poly_(g)  Cholestrl_(mg)  \n",
       "0       0.0          7.0      51.368       21.021        3.043           215.0  \n",
       "1       0.0          4.6      45.390       19.874        3.331           225.0  \n",
       "2       0.0          8.6      61.924       28.732        3.694           256.0  \n",
       "3      21.0          2.4      18.669        7.778        0.800            75.0  \n",
       "4      22.0          2.5      18.764        8.598        0.784            94.0  \n",
       "\n",
       "[5 rows x 49 columns]"
      ]
     },
     "execution_count": 33,
     "metadata": {},
     "output_type": "execute_result"
    }
   ],
   "source": [
    "nutr_df = df.iloc[:, :-5] # Remove the last five columns\n",
    "nutr_df.head()"
   ]
  },
  {
   "cell_type": "markdown",
   "metadata": {},
   "source": [
    "> **Question**\n",
    ">\n",
    "> What did the `iloc` syntax do in the code cell above?"
   ]
  },
  {
   "cell_type": "code",
   "execution_count": 34,
   "metadata": {},
   "outputs": [],
   "source": [
    "nutr_df = nutr_df.drop(['FoodGroup', 'Shrt_Desc'], axis=1)"
   ]
  },
  {
   "cell_type": "markdown",
   "metadata": {},
   "source": [
    "> **Exercise**\n",
    ">\n",
    "> Now set the index of `nutr_df` to use `NDB_No`."
   ]
  },
  {
   "cell_type": "code",
   "execution_count": 35,
   "metadata": {},
   "outputs": [
    {
     "data": {
      "text/html": [
       "<div>\n",
       "<style scoped>\n",
       "    .dataframe tbody tr th:only-of-type {\n",
       "        vertical-align: middle;\n",
       "    }\n",
       "\n",
       "    .dataframe tbody tr th {\n",
       "        vertical-align: top;\n",
       "    }\n",
       "\n",
       "    .dataframe thead th {\n",
       "        text-align: right;\n",
       "    }\n",
       "</style>\n",
       "<table border=\"1\" class=\"dataframe\">\n",
       "  <thead>\n",
       "    <tr style=\"text-align: right;\">\n",
       "      <th></th>\n",
       "      <th>Water_(g)</th>\n",
       "      <th>Energ_Kcal</th>\n",
       "      <th>Protein_(g)</th>\n",
       "      <th>Lipid_Tot_(g)</th>\n",
       "      <th>Ash_(g)</th>\n",
       "      <th>Carbohydrt_(g)</th>\n",
       "      <th>Fiber_TD_(g)</th>\n",
       "      <th>Sugar_Tot_(g)</th>\n",
       "      <th>Calcium_(mg)</th>\n",
       "      <th>Iron_(mg)</th>\n",
       "      <th>...</th>\n",
       "      <th>Lycopene_(Âµg)</th>\n",
       "      <th>Lut+Zea_ (Âµg)</th>\n",
       "      <th>Vit_E_(mg)</th>\n",
       "      <th>Vit_D_Âµg</th>\n",
       "      <th>Vit_D_IU</th>\n",
       "      <th>Vit_K_(Âµg)</th>\n",
       "      <th>FA_Sat_(g)</th>\n",
       "      <th>FA_Mono_(g)</th>\n",
       "      <th>FA_Poly_(g)</th>\n",
       "      <th>Cholestrl_(mg)</th>\n",
       "    </tr>\n",
       "    <tr>\n",
       "      <th>NDB_No</th>\n",
       "      <th></th>\n",
       "      <th></th>\n",
       "      <th></th>\n",
       "      <th></th>\n",
       "      <th></th>\n",
       "      <th></th>\n",
       "      <th></th>\n",
       "      <th></th>\n",
       "      <th></th>\n",
       "      <th></th>\n",
       "      <th></th>\n",
       "      <th></th>\n",
       "      <th></th>\n",
       "      <th></th>\n",
       "      <th></th>\n",
       "      <th></th>\n",
       "      <th></th>\n",
       "      <th></th>\n",
       "      <th></th>\n",
       "      <th></th>\n",
       "      <th></th>\n",
       "    </tr>\n",
       "  </thead>\n",
       "  <tbody>\n",
       "    <tr>\n",
       "      <th>1001</th>\n",
       "      <td>15.87</td>\n",
       "      <td>717.0</td>\n",
       "      <td>0.85</td>\n",
       "      <td>81.11</td>\n",
       "      <td>2.11</td>\n",
       "      <td>0.06</td>\n",
       "      <td>0.0</td>\n",
       "      <td>0.06</td>\n",
       "      <td>24.0</td>\n",
       "      <td>0.02</td>\n",
       "      <td>...</td>\n",
       "      <td>0.0</td>\n",
       "      <td>0.0</td>\n",
       "      <td>2.32</td>\n",
       "      <td>0.0</td>\n",
       "      <td>0.0</td>\n",
       "      <td>7.0</td>\n",
       "      <td>51.368</td>\n",
       "      <td>21.021</td>\n",
       "      <td>3.043</td>\n",
       "      <td>215.0</td>\n",
       "    </tr>\n",
       "    <tr>\n",
       "      <th>1002</th>\n",
       "      <td>16.72</td>\n",
       "      <td>718.0</td>\n",
       "      <td>0.49</td>\n",
       "      <td>78.30</td>\n",
       "      <td>1.62</td>\n",
       "      <td>2.87</td>\n",
       "      <td>0.0</td>\n",
       "      <td>0.06</td>\n",
       "      <td>23.0</td>\n",
       "      <td>0.05</td>\n",
       "      <td>...</td>\n",
       "      <td>0.0</td>\n",
       "      <td>13.0</td>\n",
       "      <td>1.37</td>\n",
       "      <td>0.0</td>\n",
       "      <td>0.0</td>\n",
       "      <td>4.6</td>\n",
       "      <td>45.390</td>\n",
       "      <td>19.874</td>\n",
       "      <td>3.331</td>\n",
       "      <td>225.0</td>\n",
       "    </tr>\n",
       "    <tr>\n",
       "      <th>1003</th>\n",
       "      <td>0.24</td>\n",
       "      <td>876.0</td>\n",
       "      <td>0.28</td>\n",
       "      <td>99.48</td>\n",
       "      <td>0.00</td>\n",
       "      <td>0.00</td>\n",
       "      <td>0.0</td>\n",
       "      <td>0.00</td>\n",
       "      <td>4.0</td>\n",
       "      <td>0.00</td>\n",
       "      <td>...</td>\n",
       "      <td>0.0</td>\n",
       "      <td>0.0</td>\n",
       "      <td>2.80</td>\n",
       "      <td>0.0</td>\n",
       "      <td>0.0</td>\n",
       "      <td>8.6</td>\n",
       "      <td>61.924</td>\n",
       "      <td>28.732</td>\n",
       "      <td>3.694</td>\n",
       "      <td>256.0</td>\n",
       "    </tr>\n",
       "    <tr>\n",
       "      <th>1004</th>\n",
       "      <td>42.41</td>\n",
       "      <td>353.0</td>\n",
       "      <td>21.40</td>\n",
       "      <td>28.74</td>\n",
       "      <td>5.11</td>\n",
       "      <td>2.34</td>\n",
       "      <td>0.0</td>\n",
       "      <td>0.50</td>\n",
       "      <td>528.0</td>\n",
       "      <td>0.31</td>\n",
       "      <td>...</td>\n",
       "      <td>0.0</td>\n",
       "      <td>0.0</td>\n",
       "      <td>0.25</td>\n",
       "      <td>0.5</td>\n",
       "      <td>21.0</td>\n",
       "      <td>2.4</td>\n",
       "      <td>18.669</td>\n",
       "      <td>7.778</td>\n",
       "      <td>0.800</td>\n",
       "      <td>75.0</td>\n",
       "    </tr>\n",
       "    <tr>\n",
       "      <th>1005</th>\n",
       "      <td>41.11</td>\n",
       "      <td>371.0</td>\n",
       "      <td>23.24</td>\n",
       "      <td>29.68</td>\n",
       "      <td>3.18</td>\n",
       "      <td>2.79</td>\n",
       "      <td>0.0</td>\n",
       "      <td>0.51</td>\n",
       "      <td>674.0</td>\n",
       "      <td>0.43</td>\n",
       "      <td>...</td>\n",
       "      <td>0.0</td>\n",
       "      <td>0.0</td>\n",
       "      <td>0.26</td>\n",
       "      <td>0.5</td>\n",
       "      <td>22.0</td>\n",
       "      <td>2.5</td>\n",
       "      <td>18.764</td>\n",
       "      <td>8.598</td>\n",
       "      <td>0.784</td>\n",
       "      <td>94.0</td>\n",
       "    </tr>\n",
       "    <tr>\n",
       "      <th>...</th>\n",
       "      <td>...</td>\n",
       "      <td>...</td>\n",
       "      <td>...</td>\n",
       "      <td>...</td>\n",
       "      <td>...</td>\n",
       "      <td>...</td>\n",
       "      <td>...</td>\n",
       "      <td>...</td>\n",
       "      <td>...</td>\n",
       "      <td>...</td>\n",
       "      <td>...</td>\n",
       "      <td>...</td>\n",
       "      <td>...</td>\n",
       "      <td>...</td>\n",
       "      <td>...</td>\n",
       "      <td>...</td>\n",
       "      <td>...</td>\n",
       "      <td>...</td>\n",
       "      <td>...</td>\n",
       "      <td>...</td>\n",
       "      <td>...</td>\n",
       "    </tr>\n",
       "    <tr>\n",
       "      <th>33879</th>\n",
       "      <td>1.64</td>\n",
       "      <td>513.0</td>\n",
       "      <td>8.26</td>\n",
       "      <td>27.76</td>\n",
       "      <td>4.73</td>\n",
       "      <td>57.61</td>\n",
       "      <td>5.2</td>\n",
       "      <td>1.60</td>\n",
       "      <td>789.0</td>\n",
       "      <td>24.15</td>\n",
       "      <td>...</td>\n",
       "      <td>0.0</td>\n",
       "      <td>660.0</td>\n",
       "      <td>14.67</td>\n",
       "      <td>0.0</td>\n",
       "      <td>0.0</td>\n",
       "      <td>1.4</td>\n",
       "      <td>5.200</td>\n",
       "      <td>7.093</td>\n",
       "      <td>11.678</td>\n",
       "      <td>0.0</td>\n",
       "    </tr>\n",
       "    <tr>\n",
       "      <th>36633</th>\n",
       "      <td>42.80</td>\n",
       "      <td>293.0</td>\n",
       "      <td>14.33</td>\n",
       "      <td>14.25</td>\n",
       "      <td>1.74</td>\n",
       "      <td>26.88</td>\n",
       "      <td>0.7</td>\n",
       "      <td>15.98</td>\n",
       "      <td>12.0</td>\n",
       "      <td>1.09</td>\n",
       "      <td>...</td>\n",
       "      <td>28.0</td>\n",
       "      <td>90.0</td>\n",
       "      <td>1.31</td>\n",
       "      <td>0.1</td>\n",
       "      <td>5.0</td>\n",
       "      <td>27.1</td>\n",
       "      <td>2.410</td>\n",
       "      <td>3.546</td>\n",
       "      <td>6.885</td>\n",
       "      <td>59.0</td>\n",
       "    </tr>\n",
       "    <tr>\n",
       "      <th>43027</th>\n",
       "      <td>69.53</td>\n",
       "      <td>121.0</td>\n",
       "      <td>0.55</td>\n",
       "      <td>0.00</td>\n",
       "      <td>0.32</td>\n",
       "      <td>29.60</td>\n",
       "      <td>2.2</td>\n",
       "      <td>3.39</td>\n",
       "      <td>31.0</td>\n",
       "      <td>0.15</td>\n",
       "      <td>...</td>\n",
       "      <td>0.0</td>\n",
       "      <td>33.0</td>\n",
       "      <td>0.33</td>\n",
       "      <td>0.0</td>\n",
       "      <td>0.0</td>\n",
       "      <td>1.2</td>\n",
       "      <td>0.000</td>\n",
       "      <td>0.000</td>\n",
       "      <td>0.000</td>\n",
       "      <td>0.0</td>\n",
       "    </tr>\n",
       "    <tr>\n",
       "      <th>43059</th>\n",
       "      <td>4.00</td>\n",
       "      <td>590.0</td>\n",
       "      <td>12.39</td>\n",
       "      <td>43.27</td>\n",
       "      <td>2.67</td>\n",
       "      <td>37.68</td>\n",
       "      <td>3.5</td>\n",
       "      <td>14.63</td>\n",
       "      <td>285.0</td>\n",
       "      <td>1.45</td>\n",
       "      <td>...</td>\n",
       "      <td>0.0</td>\n",
       "      <td>6.0</td>\n",
       "      <td>2.61</td>\n",
       "      <td>0.1</td>\n",
       "      <td>3.0</td>\n",
       "      <td>7.5</td>\n",
       "      <td>21.723</td>\n",
       "      <td>10.884</td>\n",
       "      <td>4.349</td>\n",
       "      <td>22.0</td>\n",
       "    </tr>\n",
       "    <tr>\n",
       "      <th>43344</th>\n",
       "      <td>62.00</td>\n",
       "      <td>151.0</td>\n",
       "      <td>0.00</td>\n",
       "      <td>0.10</td>\n",
       "      <td>0.30</td>\n",
       "      <td>37.60</td>\n",
       "      <td>1.5</td>\n",
       "      <td>29.41</td>\n",
       "      <td>0.0</td>\n",
       "      <td>0.00</td>\n",
       "      <td>...</td>\n",
       "      <td>0.0</td>\n",
       "      <td>20.0</td>\n",
       "      <td>0.21</td>\n",
       "      <td>0.0</td>\n",
       "      <td>0.0</td>\n",
       "      <td>1.6</td>\n",
       "      <td>0.005</td>\n",
       "      <td>0.014</td>\n",
       "      <td>0.050</td>\n",
       "      <td>0.0</td>\n",
       "    </tr>\n",
       "  </tbody>\n",
       "</table>\n",
       "<p>8989 rows × 46 columns</p>\n",
       "</div>"
      ],
      "text/plain": [
       "        Water_(g)  Energ_Kcal  Protein_(g)  Lipid_Tot_(g)  Ash_(g)  \\\n",
       "NDB_No                                                               \n",
       "1001        15.87       717.0         0.85          81.11     2.11   \n",
       "1002        16.72       718.0         0.49          78.30     1.62   \n",
       "1003         0.24       876.0         0.28          99.48     0.00   \n",
       "1004        42.41       353.0        21.40          28.74     5.11   \n",
       "1005        41.11       371.0        23.24          29.68     3.18   \n",
       "...           ...         ...          ...            ...      ...   \n",
       "33879        1.64       513.0         8.26          27.76     4.73   \n",
       "36633       42.80       293.0        14.33          14.25     1.74   \n",
       "43027       69.53       121.0         0.55           0.00     0.32   \n",
       "43059        4.00       590.0        12.39          43.27     2.67   \n",
       "43344       62.00       151.0         0.00           0.10     0.30   \n",
       "\n",
       "        Carbohydrt_(g)  Fiber_TD_(g)  Sugar_Tot_(g)  Calcium_(mg)  Iron_(mg)  \\\n",
       "NDB_No                                                                         \n",
       "1001              0.06           0.0           0.06          24.0       0.02   \n",
       "1002              2.87           0.0           0.06          23.0       0.05   \n",
       "1003              0.00           0.0           0.00           4.0       0.00   \n",
       "1004              2.34           0.0           0.50         528.0       0.31   \n",
       "1005              2.79           0.0           0.51         674.0       0.43   \n",
       "...                ...           ...            ...           ...        ...   \n",
       "33879            57.61           5.2           1.60         789.0      24.15   \n",
       "36633            26.88           0.7          15.98          12.0       1.09   \n",
       "43027            29.60           2.2           3.39          31.0       0.15   \n",
       "43059            37.68           3.5          14.63         285.0       1.45   \n",
       "43344            37.60           1.5          29.41           0.0       0.00   \n",
       "\n",
       "        ...  Lycopene_(Âµg)  Lut+Zea_ (Âµg)  Vit_E_(mg)  Vit_D_Âµg  Vit_D_IU  \\\n",
       "NDB_No  ...                                                                    \n",
       "1001    ...             0.0             0.0        2.32        0.0       0.0   \n",
       "1002    ...             0.0            13.0        1.37        0.0       0.0   \n",
       "1003    ...             0.0             0.0        2.80        0.0       0.0   \n",
       "1004    ...             0.0             0.0        0.25        0.5      21.0   \n",
       "1005    ...             0.0             0.0        0.26        0.5      22.0   \n",
       "...     ...             ...             ...         ...        ...       ...   \n",
       "33879   ...             0.0           660.0       14.67        0.0       0.0   \n",
       "36633   ...            28.0            90.0        1.31        0.1       5.0   \n",
       "43027   ...             0.0            33.0        0.33        0.0       0.0   \n",
       "43059   ...             0.0             6.0        2.61        0.1       3.0   \n",
       "43344   ...             0.0            20.0        0.21        0.0       0.0   \n",
       "\n",
       "        Vit_K_(Âµg)  FA_Sat_(g)  FA_Mono_(g)  FA_Poly_(g)  Cholestrl_(mg)  \n",
       "NDB_No                                                                     \n",
       "1001            7.0      51.368       21.021        3.043           215.0  \n",
       "1002            4.6      45.390       19.874        3.331           225.0  \n",
       "1003            8.6      61.924       28.732        3.694           256.0  \n",
       "1004            2.4      18.669        7.778        0.800            75.0  \n",
       "1005            2.5      18.764        8.598        0.784            94.0  \n",
       "...             ...         ...          ...          ...             ...  \n",
       "33879           1.4       5.200        7.093       11.678             0.0  \n",
       "36633          27.1       2.410        3.546        6.885            59.0  \n",
       "43027           1.2       0.000        0.000        0.000             0.0  \n",
       "43059           7.5      21.723       10.884        4.349            22.0  \n",
       "43344           1.6       0.005        0.014        0.050             0.0  \n",
       "\n",
       "[8989 rows x 46 columns]"
      ]
     },
     "execution_count": 35,
     "metadata": {},
     "output_type": "execute_result"
    }
   ],
   "source": [
    "nutr_df.set_index('NDB_No')"
   ]
  },
  {
   "cell_type": "markdown",
   "metadata": {},
   "source": [
    "> **Exercise solution**\n",
    ">\n",
    "> The correct code for students to use here is `nutr_df.set_index('NDB_No', inplace=True)`."
   ]
  },
  {
   "cell_type": "markdown",
   "metadata": {},
   "source": [
    "Now let’s take a look at `nutr_df`."
   ]
  },
  {
   "cell_type": "code",
   "execution_count": 45,
   "metadata": {},
   "outputs": [
    {
     "data": {
      "text/html": [
       "<div>\n",
       "<style scoped>\n",
       "    .dataframe tbody tr th:only-of-type {\n",
       "        vertical-align: middle;\n",
       "    }\n",
       "\n",
       "    .dataframe tbody tr th {\n",
       "        vertical-align: top;\n",
       "    }\n",
       "\n",
       "    .dataframe thead th {\n",
       "        text-align: right;\n",
       "    }\n",
       "</style>\n",
       "<table border=\"1\" class=\"dataframe\">\n",
       "  <thead>\n",
       "    <tr style=\"text-align: right;\">\n",
       "      <th></th>\n",
       "      <th>NDB_No</th>\n",
       "      <th>Water_(g)</th>\n",
       "      <th>Energ_Kcal</th>\n",
       "      <th>Protein_(g)</th>\n",
       "      <th>Lipid_Tot_(g)</th>\n",
       "      <th>Ash_(g)</th>\n",
       "      <th>Carbohydrt_(g)</th>\n",
       "      <th>Fiber_TD_(g)</th>\n",
       "      <th>Sugar_Tot_(g)</th>\n",
       "      <th>Calcium_(mg)</th>\n",
       "      <th>...</th>\n",
       "      <th>Lycopene_(Âµg)</th>\n",
       "      <th>Lut+Zea_ (Âµg)</th>\n",
       "      <th>Vit_E_(mg)</th>\n",
       "      <th>Vit_D_Âµg</th>\n",
       "      <th>Vit_D_IU</th>\n",
       "      <th>Vit_K_(Âµg)</th>\n",
       "      <th>FA_Sat_(g)</th>\n",
       "      <th>FA_Mono_(g)</th>\n",
       "      <th>FA_Poly_(g)</th>\n",
       "      <th>Cholestrl_(mg)</th>\n",
       "    </tr>\n",
       "  </thead>\n",
       "  <tbody>\n",
       "    <tr>\n",
       "      <th>0</th>\n",
       "      <td>1002</td>\n",
       "      <td>16.87</td>\n",
       "      <td>718.0</td>\n",
       "      <td>1.85</td>\n",
       "      <td>82.11</td>\n",
       "      <td>3.11</td>\n",
       "      <td>1.06</td>\n",
       "      <td>1.0</td>\n",
       "      <td>1.06</td>\n",
       "      <td>25.0</td>\n",
       "      <td>...</td>\n",
       "      <td>1.0</td>\n",
       "      <td>1.0</td>\n",
       "      <td>3.32</td>\n",
       "      <td>1.0</td>\n",
       "      <td>1.0</td>\n",
       "      <td>8.0</td>\n",
       "      <td>52.368</td>\n",
       "      <td>22.021</td>\n",
       "      <td>4.043</td>\n",
       "      <td>216.0</td>\n",
       "    </tr>\n",
       "    <tr>\n",
       "      <th>1</th>\n",
       "      <td>1003</td>\n",
       "      <td>17.72</td>\n",
       "      <td>719.0</td>\n",
       "      <td>1.49</td>\n",
       "      <td>79.30</td>\n",
       "      <td>2.62</td>\n",
       "      <td>3.87</td>\n",
       "      <td>1.0</td>\n",
       "      <td>1.06</td>\n",
       "      <td>24.0</td>\n",
       "      <td>...</td>\n",
       "      <td>1.0</td>\n",
       "      <td>14.0</td>\n",
       "      <td>2.37</td>\n",
       "      <td>1.0</td>\n",
       "      <td>1.0</td>\n",
       "      <td>5.6</td>\n",
       "      <td>46.390</td>\n",
       "      <td>20.874</td>\n",
       "      <td>4.331</td>\n",
       "      <td>226.0</td>\n",
       "    </tr>\n",
       "    <tr>\n",
       "      <th>2</th>\n",
       "      <td>1004</td>\n",
       "      <td>1.24</td>\n",
       "      <td>877.0</td>\n",
       "      <td>1.28</td>\n",
       "      <td>100.48</td>\n",
       "      <td>1.00</td>\n",
       "      <td>1.00</td>\n",
       "      <td>1.0</td>\n",
       "      <td>1.00</td>\n",
       "      <td>5.0</td>\n",
       "      <td>...</td>\n",
       "      <td>1.0</td>\n",
       "      <td>1.0</td>\n",
       "      <td>3.80</td>\n",
       "      <td>1.0</td>\n",
       "      <td>1.0</td>\n",
       "      <td>9.6</td>\n",
       "      <td>62.924</td>\n",
       "      <td>29.732</td>\n",
       "      <td>4.694</td>\n",
       "      <td>257.0</td>\n",
       "    </tr>\n",
       "    <tr>\n",
       "      <th>3</th>\n",
       "      <td>1005</td>\n",
       "      <td>43.41</td>\n",
       "      <td>354.0</td>\n",
       "      <td>22.40</td>\n",
       "      <td>29.74</td>\n",
       "      <td>6.11</td>\n",
       "      <td>3.34</td>\n",
       "      <td>1.0</td>\n",
       "      <td>1.50</td>\n",
       "      <td>529.0</td>\n",
       "      <td>...</td>\n",
       "      <td>1.0</td>\n",
       "      <td>1.0</td>\n",
       "      <td>1.25</td>\n",
       "      <td>1.5</td>\n",
       "      <td>22.0</td>\n",
       "      <td>3.4</td>\n",
       "      <td>19.669</td>\n",
       "      <td>8.778</td>\n",
       "      <td>1.800</td>\n",
       "      <td>76.0</td>\n",
       "    </tr>\n",
       "    <tr>\n",
       "      <th>4</th>\n",
       "      <td>1006</td>\n",
       "      <td>42.11</td>\n",
       "      <td>372.0</td>\n",
       "      <td>24.24</td>\n",
       "      <td>30.68</td>\n",
       "      <td>4.18</td>\n",
       "      <td>3.79</td>\n",
       "      <td>1.0</td>\n",
       "      <td>1.51</td>\n",
       "      <td>675.0</td>\n",
       "      <td>...</td>\n",
       "      <td>1.0</td>\n",
       "      <td>1.0</td>\n",
       "      <td>1.26</td>\n",
       "      <td>1.5</td>\n",
       "      <td>23.0</td>\n",
       "      <td>3.5</td>\n",
       "      <td>19.764</td>\n",
       "      <td>9.598</td>\n",
       "      <td>1.784</td>\n",
       "      <td>95.0</td>\n",
       "    </tr>\n",
       "  </tbody>\n",
       "</table>\n",
       "<p>5 rows × 47 columns</p>\n",
       "</div>"
      ],
      "text/plain": [
       "   NDB_No  Water_(g)  Energ_Kcal  Protein_(g)  Lipid_Tot_(g)  Ash_(g)  \\\n",
       "0    1002      16.87       718.0         1.85          82.11     3.11   \n",
       "1    1003      17.72       719.0         1.49          79.30     2.62   \n",
       "2    1004       1.24       877.0         1.28         100.48     1.00   \n",
       "3    1005      43.41       354.0        22.40          29.74     6.11   \n",
       "4    1006      42.11       372.0        24.24          30.68     4.18   \n",
       "\n",
       "   Carbohydrt_(g)  Fiber_TD_(g)  Sugar_Tot_(g)  Calcium_(mg)  ...  \\\n",
       "0            1.06           1.0           1.06          25.0  ...   \n",
       "1            3.87           1.0           1.06          24.0  ...   \n",
       "2            1.00           1.0           1.00           5.0  ...   \n",
       "3            3.34           1.0           1.50         529.0  ...   \n",
       "4            3.79           1.0           1.51         675.0  ...   \n",
       "\n",
       "   Lycopene_(Âµg)  Lut+Zea_ (Âµg)  Vit_E_(mg)  Vit_D_Âµg  Vit_D_IU  \\\n",
       "0             1.0             1.0        3.32        1.0       1.0   \n",
       "1             1.0            14.0        2.37        1.0       1.0   \n",
       "2             1.0             1.0        3.80        1.0       1.0   \n",
       "3             1.0             1.0        1.25        1.5      22.0   \n",
       "4             1.0             1.0        1.26        1.5      23.0   \n",
       "\n",
       "   Vit_K_(Âµg)  FA_Sat_(g)  FA_Mono_(g)  FA_Poly_(g)  Cholestrl_(mg)  \n",
       "0          8.0      52.368       22.021        4.043           216.0  \n",
       "1          5.6      46.390       20.874        4.331           226.0  \n",
       "2          9.6      62.924       29.732        4.694           257.0  \n",
       "3          3.4      19.669        8.778        1.800            76.0  \n",
       "4          3.5      19.764        9.598        1.784            95.0  \n",
       "\n",
       "[5 rows x 47 columns]"
      ]
     },
     "execution_count": 45,
     "metadata": {},
     "output_type": "execute_result"
    }
   ],
   "source": [
    "nutr_df.head()"
   ]
  },
  {
   "cell_type": "markdown",
   "metadata": {},
   "source": [
    "## Normalize and center the data\n",
    "\n",
    "Our numeric data comes in a variety of mass units (grams, milligrams, and micrograms) and one energy unit (kilocalories). In order to make an apples-to-apples comparison (pun intended) of the nutritional data, we need to first *normalize* the data and make it more normally distributed (that is, make the distribution of the data look more like a familiar bell curve). PCA needs relatively normalized data to perform its magic.\n",
    "\n",
    "To help see why we need to normalize the data, let's look at a histogram of all of the columns."
   ]
  },
  {
   "cell_type": "code",
   "execution_count": 47,
   "metadata": {},
   "outputs": [
    {
     "data": {
      "image/png": "[encoded data removed]",
      "text/plain": [
       "<Figure size 1440x792 with 49 Axes>"
      ]
     },
     "metadata": {
      "needs_background": "light"
     },
     "output_type": "display_data"
    }
   ],
   "source": [
    "ax = nutr_df.hist(bins=50, xlabelsize=-1, ylabelsize=-1, figsize=(20,11))"
   ]
  },
  {
   "cell_type": "markdown",
   "metadata": {},
   "source": [
    "### Our first transformation - Box-Cox\n",
    "\n",
    "Not a bell curve in sight. Worse, a lot of the data is clumped at or around 0. There are a number of ways we can massage the data into a a more useable state.\n",
    "\n",
    "We're going to start by trying the [Box-Cox Transformation](https://www.statisticshowto.datasciencecentral.com/box-cox-transformation/) on the data, a popular transformation. It does require a strictly positive input, so we will add 1 to every value in each column."
   ]
  },
  {
   "cell_type": "code",
   "execution_count": 48,
   "metadata": {},
   "outputs": [],
   "source": [
    "nutr_df = nutr_df + 1"
   ]
  },
  {
   "cell_type": "markdown",
   "metadata": {},
   "source": [
    "Now for the transformation. The Box-Cox Transformation performs the transformation $y(\\lambda) = \\dfrac{y^{\\lambda}-1}{\\lambda}$ for $\\lambda \\neq 0$ and $y(\\lambda) = log y$ for $\\lambda = 0$ for all values $y$ in a given column. SciPy has a particularly useful `boxcox()` function that can automatically calculate the $\\lambda$ for each column that best normalizes the data in that column. (However, it is does not support `NaN` values; scikit-learn has a comparable `boxcox()` function that is `NaN`-safe, but it is not available on the version of scikit-learn that comes with Azure notebooks.)"
   ]
  },
  {
   "cell_type": "code",
   "execution_count": 49,
   "metadata": {},
   "outputs": [
    {
     "name": "stderr",
     "output_type": "stream",
     "text": [
      "/Users/danieloostra/opt/anaconda3/lib/python3.8/site-packages/scipy/stats/morestats.py:1042: RuntimeWarning: invalid value encountered in less_equal\n",
      "  if any(x <= 0):\n"
     ]
    }
   ],
   "source": [
    "from scipy.stats import boxcox\n",
    "\n",
    "nutr_df_TF = pd.DataFrame(index=nutr_df.index)\n",
    "for col in nutr_df.columns.values:\n",
    "    nutr_df_TF['{}_TF'.format(col)] = boxcox(nutr_df.loc[:, col])[0]"
   ]
  },
  {
   "cell_type": "markdown",
   "metadata": {},
   "source": [
    "Let's now take a look at the `DataFrame` containing the transformed data."
   ]
  },
  {
   "cell_type": "code",
   "execution_count": 50,
   "metadata": {
    "scrolled": true
   },
   "outputs": [
    {
     "data": {
      "image/png": "[encoded data removed]",
      "text/plain": [
       "<Figure size 1440x792 with 49 Axes>"
      ]
     },
     "metadata": {
      "needs_background": "light"
     },
     "output_type": "display_data"
    }
   ],
   "source": [
    "ax = nutr_df_TF.hist(bins=50, xlabelsize=-1, ylabelsize=-1, figsize=(20,11))"
   ]
  },
  {
   "cell_type": "markdown",
   "metadata": {},
   "source": [
    "# A few of the columns now look about right, but unfortunately we really didn't see the results we were hoping for, which was bell curves for the bulk of our columns.\n",
    "\n",
    "### Standard scaling\n",
    "\n",
    "Our data units were incompatible to begin with, and the transformations haven't given us any real improvement. We can apply a different technique - centering the data around 0; that is, we will again transform the data, this time so that every column has a mean of 0 and a standard deviation of 1. Put another way, we're going to standardize our data around 0. Scikit-learn has a convenient function for this - [StandardScaler](https://scikit-learn.org/stable/modules/generated/sklearn.preprocessing.StandardScaler.html). We're going to call `fit_transform` to perform the conversion. Please note `fit_transform` will return a `numpy` array rather than a `DataFrame`."
   ]
  },
  {
   "cell_type": "code",
   "execution_count": 51,
   "metadata": {},
   "outputs": [],
   "source": [
    "nutr_df_TF = StandardScaler().fit_transform(nutr_df_TF)\n"
   ]
  },
  {
   "cell_type": "code",
   "execution_count": 57,
   "metadata": {},
   "outputs": [
    {
     "data": {
      "text/plain": [
       "(8989, 47)"
      ]
     },
     "execution_count": 57,
     "metadata": {},
     "output_type": "execute_result"
    }
   ],
   "source": [
    "nutr_df_TF.shape"
   ]
  },
  {
   "cell_type": "code",
   "execution_count": 70,
   "metadata": {},
   "outputs": [
    {
     "data": {
      "text/plain": [
       "array([[-2.39814657],\n",
       "       [-0.60711954],\n",
       "       [ 1.31447387],\n",
       "       ...,\n",
       "       [-0.04201163],\n",
       "       [-0.03708661],\n",
       "       [-0.02406093]])"
      ]
     },
     "execution_count": 70,
     "metadata": {},
     "output_type": "execute_result"
    }
   ],
   "source": [
    "df_1=nutr_df_TF[np.logical_not(np.isnan(nutr_df_TF))]\n",
    "df_1.reshape(-1, 1)"
   ]
  },
  {
   "cell_type": "markdown",
   "metadata": {},
   "source": [
    "You can satisfy your self that the data is now centered by using the `mean()` method on the array."
   ]
  },
  {
   "cell_type": "code",
   "execution_count": 65,
   "metadata": {},
   "outputs": [
    {
     "name": "stdout",
     "output_type": "stream",
     "text": [
      "mean:  nan\n"
     ]
    }
   ],
   "source": [
    "print(\"mean: \", np.round(nutr_df_TF.mean(), 2))"
   ]
  },
  {
   "cell_type": "markdown",
   "metadata": {},
   "source": [
    "> **Exercise**\n",
    ">\n",
    "> Find the standard deviation for the `nutr_df_TF`. (If you need a hint, you can always use **tab** in Jupyter notebooks)"
   ]
  },
  {
   "cell_type": "code",
   "execution_count": 66,
   "metadata": {},
   "outputs": [
    {
     "name": "stdout",
     "output_type": "stream",
     "text": [
      "standard deviation:  nan\n"
     ]
    }
   ],
   "source": [
    "print(\"standard deviation: \", np.round(nutr_df_TF.std(), 2))"
   ]
  },
  {
   "cell_type": "markdown",
   "metadata": {},
   "source": [
    "## PCA in practice\n",
    "\n",
    "It is finally time to perform the PCA on our data. (As stated before, even with pretty clean data, a lot of effort has to go into preparing the data for analysis.)"
   ]
  },
  {
   "cell_type": "code",
   "execution_count": 72,
   "metadata": {},
   "outputs": [],
   "source": [
    "fit = PCA()\n",
    "pca = fit.fit_transform(df_1.reshape(-1, 1))"
   ]
  },
  {
   "cell_type": "markdown",
   "metadata": {},
   "source": [
    "So, now that we have peformed the PCA on our data, what do we actually have? Remember that PCA is foremost about finding the eigenvectors for our data. We then want to select some subset of those vectors to form the lower-dimensional subspace in which to analyze our data.\n",
    "\n",
    "Let's take a look at a scatter plot created by the first two components. We can already see some clustering, which we'll be able to better represent when we get towards the end."
   ]
  },
  {
   "cell_type": "code",
   "execution_count": 73,
   "metadata": {},
   "outputs": [
    {
     "ename": "IndexError",
     "evalue": "index 1 is out of bounds for axis 1 with size 1",
     "output_type": "error",
     "traceback": [
      "\u001b[0;31m---------------------------------------------------------------------------\u001b[0m",
      "\u001b[0;31mIndexError\u001b[0m                                Traceback (most recent call last)",
      "\u001b[0;32m<ipython-input-73-10d1c0ebaecf>\u001b[0m in \u001b[0;36m<module>\u001b[0;34m\u001b[0m\n\u001b[0;32m----> 1\u001b[0;31m \u001b[0mplt\u001b[0m\u001b[0;34m.\u001b[0m\u001b[0mscatter\u001b[0m\u001b[0;34m(\u001b[0m\u001b[0mpca\u001b[0m\u001b[0;34m[\u001b[0m\u001b[0;34m:\u001b[0m\u001b[0;34m,\u001b[0m\u001b[0;36m0\u001b[0m\u001b[0;34m]\u001b[0m\u001b[0;34m,\u001b[0m \u001b[0mpca\u001b[0m\u001b[0;34m[\u001b[0m\u001b[0;34m:\u001b[0m\u001b[0;34m,\u001b[0m\u001b[0;36m1\u001b[0m\u001b[0;34m]\u001b[0m\u001b[0;34m,\u001b[0m \u001b[0malpha\u001b[0m\u001b[0;34m=\u001b[0m\u001b[0;34m'.1'\u001b[0m\u001b[0;34m)\u001b[0m\u001b[0;34m\u001b[0m\u001b[0;34m\u001b[0m\u001b[0m\n\u001b[0m\u001b[1;32m      2\u001b[0m \u001b[0mplt\u001b[0m\u001b[0;34m.\u001b[0m\u001b[0mxlabel\u001b[0m\u001b[0;34m(\u001b[0m\u001b[0;34m'C1'\u001b[0m\u001b[0;34m)\u001b[0m\u001b[0;34m\u001b[0m\u001b[0;34m\u001b[0m\u001b[0m\n\u001b[1;32m      3\u001b[0m \u001b[0mplt\u001b[0m\u001b[0;34m.\u001b[0m\u001b[0mylabel\u001b[0m\u001b[0;34m(\u001b[0m\u001b[0;34m'C2'\u001b[0m\u001b[0;34m)\u001b[0m\u001b[0;34m\u001b[0m\u001b[0;34m\u001b[0m\u001b[0m\n\u001b[1;32m      4\u001b[0m \u001b[0mplt\u001b[0m\u001b[0;34m.\u001b[0m\u001b[0mtitle\u001b[0m\u001b[0;34m(\u001b[0m\u001b[0;34m'Collapsed data'\u001b[0m\u001b[0;34m)\u001b[0m\u001b[0;34m\u001b[0m\u001b[0;34m\u001b[0m\u001b[0m\n",
      "\u001b[0;31mIndexError\u001b[0m: index 1 is out of bounds for axis 1 with size 1"
     ]
    }
   ],
   "source": [
    "plt.scatter(pca[:,0], pca[:,1], alpha='.1')\n",
    "plt.xlabel('C1')\n",
    "plt.ylabel('C2')\n",
    "plt.title('Collapsed data')"
   ]
  },
  {
   "cell_type": "markdown",
   "metadata": {},
   "source": [
    "Not all of the eigenvectors are created equal. Just a few of them will account for the majority of the variance in the data. (Put another way, a subspace composed of just a few of the eigenvectors will retain the majority of the information from our data.) We want to focus on those vectors.\n",
    "\n",
    "To help us get a sense of how many vectors we should use, consider this scree graph of the variance for the PCA components, which plots the variance explained by the components from greatest to least."
   ]
  },
  {
   "cell_type": "code",
   "execution_count": 17,
   "metadata": {},
   "outputs": [
    {
     "ename": "AttributeError",
     "evalue": "'PCA' object has no attribute 'explained_variance_ratio_'",
     "output_type": "error",
     "traceback": [
      "\u001b[0;31m---------------------------------------------------------------------------\u001b[0m",
      "\u001b[0;31mAttributeError\u001b[0m                            Traceback (most recent call last)",
      "\u001b[0;32m<ipython-input-17-1ce268f47d79>\u001b[0m in \u001b[0;36m<module>\u001b[0;34m\u001b[0m\n\u001b[0;32m----> 1\u001b[0;31m \u001b[0mplt\u001b[0m\u001b[0;34m.\u001b[0m\u001b[0mplot\u001b[0m\u001b[0;34m(\u001b[0m\u001b[0mfit\u001b[0m\u001b[0;34m.\u001b[0m\u001b[0mexplained_variance_ratio_\u001b[0m\u001b[0;34m)\u001b[0m\u001b[0;34m\u001b[0m\u001b[0;34m\u001b[0m\u001b[0m\n\u001b[0m",
      "\u001b[0;31mAttributeError\u001b[0m: 'PCA' object has no attribute 'explained_variance_ratio_'"
     ]
    }
   ],
   "source": [
    "plt.plot(fit.explained_variance_ratio_)"
   ]
  },
  {
   "cell_type": "markdown",
   "metadata": {},
   "source": [
    "This is where data science can become an art. As a rule of thumb, we want to look for \"elbow\" in the graph, which is the point at which the few components have captured the majority of the variance in the data (after that point, we are only adding complexity to the analysis for increasingly diminishing returns). In this particular case, that appears to be at about five components.\n",
    "\n",
    "We can take the cumulative sum of the first five components to see how much variance they capture in total."
   ]
  },
  {
   "cell_type": "code",
   "execution_count": 19,
   "metadata": {},
   "outputs": [
    {
     "ename": "AttributeError",
     "evalue": "'PCA' object has no attribute 'explained_variance_ratio_'",
     "output_type": "error",
     "traceback": [
      "\u001b[0;31m---------------------------------------------------------------------------\u001b[0m",
      "\u001b[0;31mAttributeError\u001b[0m                            Traceback (most recent call last)",
      "\u001b[0;32m<ipython-input-19-978f014b90f4>\u001b[0m in \u001b[0;36m<module>\u001b[0;34m\u001b[0m\n\u001b[0;32m----> 1\u001b[0;31m \u001b[0mprint\u001b[0m\u001b[0;34m(\u001b[0m\u001b[0mfit\u001b[0m\u001b[0;34m.\u001b[0m\u001b[0mexplained_variance_ratio_\u001b[0m\u001b[0;34m[\u001b[0m\u001b[0;34m:\u001b[0m\u001b[0;36m5\u001b[0m\u001b[0;34m]\u001b[0m\u001b[0;34m.\u001b[0m\u001b[0msum\u001b[0m\u001b[0;34m(\u001b[0m\u001b[0;34m)\u001b[0m\u001b[0;34m)\u001b[0m\u001b[0;34m\u001b[0m\u001b[0;34m\u001b[0m\u001b[0m\n\u001b[0m",
      "\u001b[0;31mAttributeError\u001b[0m: 'PCA' object has no attribute 'explained_variance_ratio_'"
     ]
    }
   ],
   "source": [
    "print(fit.explained_variance_ratio_[:5].sum())"
   ]
  },
  {
   "cell_type": "markdown",
   "metadata": {},
   "source": [
    "So our five components capture about 70 percent of the variance. We can see what fewer or additional components would yield by looking at the cumulative variance for all of the components. You can see increasing to 6 components would cover an additional 3 percentage points over the first 5, and there's an ever-diminisioning return."
   ]
  },
  {
   "cell_type": "code",
   "execution_count": 20,
   "metadata": {},
   "outputs": [
    {
     "ename": "AttributeError",
     "evalue": "'PCA' object has no attribute 'explained_variance_ratio_'",
     "output_type": "error",
     "traceback": [
      "\u001b[0;31m---------------------------------------------------------------------------\u001b[0m",
      "\u001b[0;31mAttributeError\u001b[0m                            Traceback (most recent call last)",
      "\u001b[0;32m<ipython-input-20-0c12c6fcbebd>\u001b[0m in \u001b[0;36m<module>\u001b[0;34m\u001b[0m\n\u001b[0;32m----> 1\u001b[0;31m \u001b[0mfit\u001b[0m\u001b[0;34m.\u001b[0m\u001b[0mexplained_variance_ratio_\u001b[0m\u001b[0;34m.\u001b[0m\u001b[0mcumsum\u001b[0m\u001b[0;34m(\u001b[0m\u001b[0;34m)\u001b[0m\u001b[0;34m\u001b[0m\u001b[0;34m\u001b[0m\u001b[0m\n\u001b[0m",
      "\u001b[0;31mAttributeError\u001b[0m: 'PCA' object has no attribute 'explained_variance_ratio_'"
     ]
    }
   ],
   "source": [
    "fit.explained_variance_ratio_.cumsum()"
   ]
  },
  {
   "cell_type": "markdown",
   "metadata": {},
   "source": [
    "We can also examine this visually."
   ]
  },
  {
   "cell_type": "code",
   "execution_count": 21,
   "metadata": {},
   "outputs": [
    {
     "ename": "AttributeError",
     "evalue": "'PCA' object has no attribute 'explained_variance_ratio_'",
     "output_type": "error",
     "traceback": [
      "\u001b[0;31m---------------------------------------------------------------------------\u001b[0m",
      "\u001b[0;31mAttributeError\u001b[0m                            Traceback (most recent call last)",
      "\u001b[0;32m<ipython-input-21-661506e35c90>\u001b[0m in \u001b[0;36m<module>\u001b[0;34m\u001b[0m\n\u001b[0;32m----> 1\u001b[0;31m \u001b[0mplt\u001b[0m\u001b[0;34m.\u001b[0m\u001b[0mplot\u001b[0m\u001b[0;34m(\u001b[0m\u001b[0mnp\u001b[0m\u001b[0;34m.\u001b[0m\u001b[0mcumsum\u001b[0m\u001b[0;34m(\u001b[0m\u001b[0mfit\u001b[0m\u001b[0;34m.\u001b[0m\u001b[0mexplained_variance_ratio_\u001b[0m\u001b[0;34m)\u001b[0m\u001b[0;34m)\u001b[0m\u001b[0;34m\u001b[0m\u001b[0;34m\u001b[0m\u001b[0m\n\u001b[0m\u001b[1;32m      2\u001b[0m \u001b[0mplt\u001b[0m\u001b[0;34m.\u001b[0m\u001b[0mtitle\u001b[0m\u001b[0;34m(\u001b[0m\u001b[0;34m\"Cumulative Explained Variance Graph\"\u001b[0m\u001b[0;34m)\u001b[0m\u001b[0;34m\u001b[0m\u001b[0;34m\u001b[0m\u001b[0m\n",
      "\u001b[0;31mAttributeError\u001b[0m: 'PCA' object has no attribute 'explained_variance_ratio_'"
     ]
    }
   ],
   "source": [
    "plt.plot(np.cumsum(fit.explained_variance_ratio_))\n",
    "plt.title(\"Cumulative Explained Variance Graph\")"
   ]
  },
  {
   "cell_type": "markdown",
   "metadata": {},
   "source": [
    "Ultimately, it is a matter of judgment as to how many components to use, but five vectors (and 70 percent of the variance) will suffice for our purposes in this section.\n",
    "\n",
    "To aid further analysis, let's now put those five components into a DataFrame."
   ]
  },
  {
   "cell_type": "code",
   "execution_count": null,
   "metadata": {},
   "outputs": [],
   "source": [
    "pca_df = pd.DataFrame(pca[:, :5], index=desc_df.index)\n",
    "pca_df.head()"
   ]
  },
  {
   "cell_type": "markdown",
   "metadata": {},
   "source": [
    "Each column represents one of the eigenvectors, and each row is one of the coordinates that defines that vector in five-dimensional space.\n",
    "\n",
    "We will want to add the FoodGroup column back in to aid with our interpretation of the data later on. Let's also rename the component-columns $c_{1}$ through $c_{5}$ so that we know what we are looking at."
   ]
  },
  {
   "cell_type": "code",
   "execution_count": null,
   "metadata": {},
   "outputs": [],
   "source": [
    "pca_df = pca_df.join(desc_df)\n",
    "pca_df.drop(['FoodGroup', 'GmWt_Desc1', 'GmWt_2', 'GmWt_Desc2', 'Refuse_Pct', 'Shrt_Desc'], axis=1, inplace=True)\n",
    "pca_df.rename(columns={0:'c1', 1:'c2', 2:'c3', 3:'c4', 4:'c5'}, inplace=True)"
   ]
  },
  {
   "cell_type": "markdown",
   "metadata": {},
   "source": [
    "Don't worry that the FoodGroup column has all `NaN` values: it is not a vector, so it has no vector coordinates.\n",
    "\n",
    "One last thing we should demonstrate is that each of the components is mutually perpendicular (or orthogonal in math-speak). One way of expressing that condition is that each component-vector should perfectly correspond with itself and not correlate at all (positively or negatively) with any other vector."
   ]
  },
  {
   "cell_type": "code",
   "execution_count": null,
   "metadata": {},
   "outputs": [],
   "source": [
    "np.round(pca_df.corr(), 5)"
   ]
  },
  {
   "cell_type": "markdown",
   "metadata": {},
   "source": [
    "## Interpreting the results\n",
    "\n",
    "What do our new vectors mean? What is driving our data? To see these results, we will create pandas Series for each of the components, index them by feature, and then sort them in descreasing order (so that a higher number represents a feature that is positively correlated with that vector and negative numbers represent low correlation)."
   ]
  },
  {
   "cell_type": "code",
   "execution_count": null,
   "metadata": {},
   "outputs": [],
   "source": [
    "vects = fit.components_[:5]"
   ]
  },
  {
   "cell_type": "code",
   "execution_count": null,
   "metadata": {},
   "outputs": [],
   "source": [
    "c1 = pd.Series(vects[0], index=nutr_df.columns)\n",
    "c1.sort_values(ascending=False)"
   ]
  },
  {
   "cell_type": "markdown",
   "metadata": {},
   "source": [
    "Our first component is primarily driven by the amounts of protein, selenium and zinc, while the amounts of vitamin C and sugar have a lessened impact."
   ]
  },
  {
   "cell_type": "code",
   "execution_count": null,
   "metadata": {},
   "outputs": [],
   "source": [
    "c2 = pd.Series(vects[1], index=nutr_df.columns)\n",
    "c2.sort_values(ascending=False)"
   ]
  },
  {
   "cell_type": "markdown",
   "metadata": {},
   "source": [
    "Our second component is primarily driven by the amounts of fiber, manganese and folate.\n",
    "\n",
    "By using PCA we've been able to distill our data down into fewer, more meaningful dimensions and gain insights we might miss otherwise."
   ]
  },
  {
   "cell_type": "markdown",
   "metadata": {},
   "source": [
    "## Using our PCA results for categorization\n",
    "\n",
    "One of the most common uses of PCA is to prepare data for categorization. PCA provides meaningful dimensions which are non-correlated, so our cluster will typically provide better results. This is why we started with PCA to before we attempted to cluster our foods together.\n",
    "\n",
    "To perform the categorization, we're going to use [k-means clustering](https://en.wikipedia.org/wiki/K-means_clustering). In a nutshell, k-means will look to identify groups (or clusters) in our data.\n",
    "\n",
    "We're going to start by loading the library, creating our model, and then fitting our PCA results into the model. We are arbitrarily using 3 clusters; in [Machine Learning 2](https://github.com/microsoft/Reactors/tree/main/Machine_Learning_2) there is a deeper conversation of k-means and how to determine the best number of clusters. We're using just the first 5 components as we determined it will provide the best return on investment."
   ]
  },
  {
   "cell_type": "code",
   "execution_count": null,
   "metadata": {},
   "outputs": [],
   "source": [
    "from sklearn.cluster import KMeans\n",
    "kmeansmodel = KMeans(n_clusters=3, random_state=13)\n",
    "kmeansmodel.fit(pca[:, :5])\n",
    "kmeansmodel.labels_"
   ]
  },
  {
   "cell_type": "markdown",
   "metadata": {},
   "source": [
    "Let's recreate our `DataFrame` with the PCA values, a new column named **Cluster** which will hold the `label_` or cluster number for each food item, and add back in the text descriptions."
   ]
  },
  {
   "cell_type": "code",
   "execution_count": null,
   "metadata": {},
   "outputs": [],
   "source": [
    "# Create a new data frame\n",
    "pca_df = pd.DataFrame(pca[:, :5], index=desc_df.index)\n",
    "\n",
    "# Add in the cluster number\n",
    "pca_df['Cluster'] = kmeansmodel.labels_\n",
    "\n",
    "# Add in the text descriptions\n",
    "pca_df = pca_df.join(desc_df)\n",
    "pca_df.head()"
   ]
  },
  {
   "cell_type": "markdown",
   "metadata": {},
   "source": [
    "### Exploring our clusters\n",
    "\n",
    "Let's see the products which wound up in the first cluster."
   ]
  },
  {
   "cell_type": "code",
   "execution_count": null,
   "metadata": {},
   "outputs": [],
   "source": [
    "pca_df.loc[pca_df['Cluster'] == 0]['Shrt_Desc'][:500]"
   ]
  },
  {
   "cell_type": "markdown",
   "metadata": {},
   "source": [
    "> **Exercise** Display the first 500 rows for the remaining two clusters"
   ]
  },
  {
   "cell_type": "code",
   "execution_count": null,
   "metadata": {},
   "outputs": [],
   "source": [
    "# Display cluster two (remember indexing starts at 0)\n"
   ]
  },
  {
   "cell_type": "code",
   "execution_count": null,
   "metadata": {},
   "outputs": [],
   "source": [
    "# Display cluster three (remember indexing starts at 0)\n"
   ]
  },
  {
   "cell_type": "markdown",
   "metadata": {},
   "source": [
    "### Conclusion\n",
    "\n",
    "Reducing dimensions to allow us to focus on what's important can be a bit of a a challenge. And, frankly, PCA can be a bit confusing at first. PCA's main goal is to provide us with a better signal to noise ratio. It helps us weed out the dimensions which aren't as important, and provide more meaningful insights into the relationships between our data. It's commonly used before categorization algorithms, such as k-means."
   ]
  }
 ],
 "metadata": {
  "kernelspec": {
   "display_name": "Python 3",
   "language": "python",
   "name": "python3"
  },
  "language_info": {
   "codemirror_mode": {
    "name": "ipython",
    "version": 3
   },
   "file_extension": ".py",
   "mimetype": "text/x-python",
   "name": "python",
   "nbconvert_exporter": "python",
   "pygments_lexer": "ipython3",
   "version": "3.8.3"
  }
 },
 "nbformat": 4,
 "nbformat_minor": 2
}
